{
 "cells": [
  {
   "cell_type": "code",
   "execution_count": 2,
   "metadata": {},
   "outputs": [],
   "source": [
    "import import_ipynb\n",
    "import os"
   ]
  },
  {
   "cell_type": "code",
   "execution_count": 3,
   "metadata": {},
   "outputs": [],
   "source": [
    "import pandas as pd\n",
    "import numpy as np"
   ]
  },
  {
   "cell_type": "code",
   "execution_count": 4,
   "metadata": {},
   "outputs": [],
   "source": [
    "os.chdir('/Users/choikyungsuk/Desktop/WatermelonTheBest/initial_vrp')"
   ]
  },
  {
   "cell_type": "code",
   "execution_count": 5,
   "metadata": {},
   "outputs": [
    {
     "name": "stdout",
     "output_type": "stream",
     "text": [
      "importing Jupyter notebook from class_init_loop_vrp.ipynb\n",
      "Loop route 구축\n",
      "importing Jupyter notebook from class_init_straight_vrp.ipynb\n",
      "\n",
      "\n",
      "Objective: 199071\n",
      "Route for vehicle 0:\n",
      "\n",
      " 정류장 이름 : 강남역  (탑승객 수: 5, 하차수: 0, 소요시간: 0:00:00) \n",
      "    ==>     정류장 이름 : 학동역  (탑승객 수: 3, 하차수: 2, 소요시간: 0:07:47) \n",
      "    ==>     정류장 이름 : 현대아파트  (탑승객 수: 3, 하차수: 2, 소요시간: 0:25:04) \n",
      "    ==>    서비스 종료\n",
      "\n",
      "Total Duration of all routes: 0:32:51m\n",
      "Total load of all routes: 2\n",
      "\n",
      "\n",
      "Objective: 174730\n",
      "Route for vehicle 0:\n",
      "\n",
      " 정류장 이름 : 강남역  (탑승객 수: 5, 하차수: 0, 소요시간: 0:00:00) \n",
      "    ==>     정류장 이름 : 신당동.청구역  (탑승객 수: 4, 하차수: 1, 소요시간: 0:16:34) \n",
      "    ==>     정류장 이름 : 동묘앞  (탑승객 수: 3, 하차수: 1, 소요시간: 0:06:30) \n",
      "    ==>     정류장 이름 : 안암오거리  (탑승객 수: 3, 하차수: 1, 소요시간: 0:05:46) \n",
      "    ==>    서비스 종료\n",
      "\n",
      "Total Duration of all routes: 0:28:50m\n",
      "Total load of all routes: 2\n"
     ]
    }
   ],
   "source": [
    "from class_init_loop_vrp import init_loop_vrp\n",
    "from class_init_straight_vrp import straight_route"
   ]
  },
  {
   "cell_type": "code",
   "execution_count": 6,
   "metadata": {},
   "outputs": [
    {
     "name": "stdout",
     "output_type": "stream",
     "text": [
      "importing Jupyter notebook from boundary.ipynb\n"
     ]
    }
   ],
   "source": [
    "os.chdir('/Users/choikyungsuk/Desktop/WatermelonTheBest')\n",
    "from boundary import boundary"
   ]
  },
  {
   "cell_type": "code",
   "execution_count": 7,
   "metadata": {},
   "outputs": [],
   "source": [
    "time_matrix = np.load('locate_call/강남역_경로매트릭스_예시(분).npy')\n",
    "node = np.load('locate_call/강남역_경로매트릭스_예시(분).npy')[:10,:10]\n",
    "bus_name_lst = ['강남역','학동역','현대아파트','신당동.청구역','동묘앞','안암오거리','서초동삼성아파트','방배역','사당역13번출구','남성초등학교','언북중학교입구',\n",
    "'세관앞','신구중학교','금옥초등학교.금호대우아파트','장충체육관앞','대광고등학교앞','서초역2번출구','청호나이스','방배동신동아아파트','서울고사거리','방배동래미안아파트','서울교통공사','구름다리','이수역','사당역']"
   ]
  },
  {
   "cell_type": "code",
   "execution_count": 8,
   "metadata": {},
   "outputs": [],
   "source": [
    "class WTB:\n",
    "    def __init__(self, hot_place, num_vehicles, time_matrix, name_lst, input_node):\n",
    "        self.hotpalce = hot_place\n",
    "        self.num_vehicles = num_vehicles\n",
    "        self.time_matrix = time_matrix\n",
    "        self.name_lst = name_lst\n",
    "        self.input_node = input_node #초기에 들어오는 노드\n",
    "\n",
    "\n",
    "    def initial_loop(self):\n",
    "        self.loop_initial = init_loop_vrp()\n",
    "        self.initial_loop_result= self.loop_initial.get_loop(self.num_vehicles, self.input_node, self.time_matrix) \n",
    "\n",
    "        self.loop = self.initial_loop_result[0] # 차량 별 loop구조로 생기는 route\n",
    "        self.demand = self.initial_loop_result[1] # 차량 별 demand\n",
    "\n",
    "\n",
    "    def loop_to_straight(self):\n",
    "        self.loop_straight = []\n",
    "        loop2st = straight_route()\n",
    "        \n",
    "        for i in range(len(self.loop)):\n",
    "            self.straight =  loop2st.get_straight_route(self.time_matrix, self.loop[i], self.name_lst, self.demand[i])\n",
    "            #print(self.straight[0])\n",
    "            #self.loop_straight.append(self.straight[0])\n",
    "\n",
    "        #print(self.loop_straight)\n",
    "            \n",
    "\n",
    "\n",
    "    def possible_node(self):\n",
    "        self.add_possible_node = []\n",
    "        for r in self.loop_straight:\n",
    "            possible_boundary = boundary()\n",
    "            poss_node_dict = possible_boundary.all_possible_node(self.time_matrix, self.name_lst, r)\n",
    "            self.add_possible_node.append(poss_node_dict)\n",
    "\n",
    "    \n",
    "\n",
    "    def add_node(self, new_node):\n",
    "        pass\n",
    "\n",
    "    \n",
    "        \n"
   ]
  },
  {
   "cell_type": "code",
   "execution_count": 9,
   "metadata": {},
   "outputs": [
    {
     "name": "stdout",
     "output_type": "stream",
     "text": [
      "Loop route 구축\n",
      "\n",
      "\n",
      "Objective: 158873\n",
      "Route for vehicle 0:\n",
      "\n",
      " 정류장 이름 : 강남역  (탑승객 수: 5, 하차수: 0, 소요시간: 0:00:00) \n",
      "    ==>     정류장 이름 : 서초동삼성아파트  (탑승객 수: 4, 하차수: 1, 소요시간: 0:09:16) \n",
      "    ==>     정류장 이름 : 방배역  (탑승객 수: 3, 하차수: 1, 소요시간: 0:05:16) \n",
      "    ==>     정류장 이름 : 사당역13번출구  (탑승객 수: 2, 하차수: 1, 소요시간: 0:04:36) \n",
      "    ==>     정류장 이름 : 남성초등학교  (탑승객 수: 2, 하차수: 1, 소요시간: 0:07:05) \n",
      "    ==>    서비스 종료\n",
      "\n",
      "Total Duration of all routes: 0:26:13m\n",
      "Total load of all routes: 3\n",
      "\n",
      "\n",
      "Objective: 174730\n",
      "Route for vehicle 0:\n",
      "\n",
      " 정류장 이름 : 강남역  (탑승객 수: 5, 하차수: 0, 소요시간: 0:00:00) \n",
      "    ==>     정류장 이름 : 신당동.청구역  (탑승객 수: 4, 하차수: 1, 소요시간: 0:16:34) \n",
      "    ==>     정류장 이름 : 동묘앞  (탑승객 수: 3, 하차수: 1, 소요시간: 0:06:30) \n",
      "    ==>     정류장 이름 : 안암오거리  (탑승객 수: 3, 하차수: 1, 소요시간: 0:05:46) \n",
      "    ==>    서비스 종료\n",
      "\n",
      "Total Duration of all routes: 0:28:50m\n",
      "Total load of all routes: 2\n",
      "\n",
      "\n",
      "Objective: 199071\n",
      "Route for vehicle 0:\n",
      "\n",
      " 정류장 이름 : 강남역  (탑승객 수: 5, 하차수: 0, 소요시간: 0:00:00) \n",
      "    ==>     정류장 이름 : 학동역  (탑승객 수: 3, 하차수: 2, 소요시간: 0:07:47) \n",
      "    ==>     정류장 이름 : 현대아파트  (탑승객 수: 3, 하차수: 2, 소요시간: 0:25:04) \n",
      "    ==>    서비스 종료\n",
      "\n",
      "Total Duration of all routes: 0:32:51m\n",
      "Total load of all routes: 2\n"
     ]
    }
   ],
   "source": [
    "gangnam = WTB('gangnam', 3, time_matrix, bus_name_lst, range(10))\n",
    "gangnam.initial_loop()\n",
    "gangnam.loop_to_straight()"
   ]
  },
  {
   "cell_type": "code",
   "execution_count": null,
   "metadata": {},
   "outputs": [],
   "source": []
  },
  {
   "cell_type": "code",
   "execution_count": null,
   "metadata": {},
   "outputs": [],
   "source": [
    "\n"
   ]
  }
 ],
 "metadata": {
  "kernelspec": {
   "display_name": "Python 3.8.12 ('DAB')",
   "language": "python",
   "name": "python3"
  },
  "language_info": {
   "codemirror_mode": {
    "name": "ipython",
    "version": 3
   },
   "file_extension": ".py",
   "mimetype": "text/x-python",
   "name": "python",
   "nbconvert_exporter": "python",
   "pygments_lexer": "ipython3",
   "version": "3.8.13"
  },
  "orig_nbformat": 4,
  "vscode": {
   "interpreter": {
    "hash": "2e1a22278fcd7ad0e055af58b0f7aa01b7991f17792cd428bee921724201d0b5"
   }
  }
 },
 "nbformat": 4,
 "nbformat_minor": 2
}
