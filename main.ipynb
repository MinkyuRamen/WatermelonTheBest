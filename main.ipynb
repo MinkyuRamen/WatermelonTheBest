{
 "cells": [
  {
   "cell_type": "code",
   "execution_count": 1,
   "metadata": {},
   "outputs": [],
   "source": [
    "import import_ipynb"
   ]
  },
  {
   "cell_type": "code",
   "execution_count": 2,
   "metadata": {},
   "outputs": [],
   "source": [
    "import pandas as pd\n",
    "import numpy as np"
   ]
  },
  {
   "cell_type": "code",
   "execution_count": 26,
   "metadata": {},
   "outputs": [
    {
     "name": "stdout",
     "output_type": "stream",
     "text": [
      "/Users/choikyungsuk/Desktop/WatermelonTheBest/initial_vrp\n"
     ]
    }
   ],
   "source": [
    "cd initial_vrp"
   ]
  },
  {
   "cell_type": "code",
   "execution_count": 29,
   "metadata": {},
   "outputs": [],
   "source": [
    "from class_init_loop_vrp import init_loop_vrp"
   ]
  },
  {
   "cell_type": "code",
   "execution_count": 40,
   "metadata": {},
   "outputs": [],
   "source": [
    "import init_vrp_straight"
   ]
  },
  {
   "cell_type": "code",
   "execution_count": 38,
   "metadata": {},
   "outputs": [
    {
     "ename": "AttributeError",
     "evalue": "module 'init_vrp_straight' has no attribute 'main'",
     "output_type": "error",
     "traceback": [
      "\u001b[0;31m---------------------------------------------------------------------------\u001b[0m",
      "\u001b[0;31mAttributeError\u001b[0m                            Traceback (most recent call last)",
      "\u001b[1;32m/Users/choikyungsuk/Desktop/WatermelonTheBest/main.ipynb 셀 6\u001b[0m in \u001b[0;36m<cell line: 1>\u001b[0;34m()\u001b[0m\n\u001b[0;32m----> <a href='vscode-notebook-cell:/Users/choikyungsuk/Desktop/WatermelonTheBest/main.ipynb#X24sZmlsZQ%3D%3D?line=0'>1</a>\u001b[0m init_vrp_straight\u001b[39m.\u001b[39;49mmain\n",
      "\u001b[0;31mAttributeError\u001b[0m: module 'init_vrp_straight' has no attribute 'main'"
     ]
    }
   ],
   "source": [
    "init_vrp_straight.main"
   ]
  },
  {
   "cell_type": "code",
   "execution_count": 18,
   "metadata": {},
   "outputs": [],
   "source": [
    "cd ./../\n",
    "from boundary import boundary"
   ]
  },
  {
   "cell_type": "code",
   "execution_count": 6,
   "metadata": {},
   "outputs": [
    {
     "data": {
      "text/plain": [
       "<class_init_loop_vrp.init_loop_vrp at 0x7f9671000f10>"
      ]
     },
     "execution_count": 6,
     "metadata": {},
     "output_type": "execute_result"
    }
   ],
   "source": [
    "init_loop_vrp()"
   ]
  },
  {
   "cell_type": "code",
   "execution_count": 7,
   "metadata": {},
   "outputs": [],
   "source": [
    "time_matrix = np.load('../locate_call/강남역_경로매트릭스_예시(분).npy')\n",
    "node = np.load('../locate_call/강남역_경로매트릭스_예시(분).npy')[:10,:10]\n",
    "bus_name_lst = ['강남역','학동역','현대아파트','신당동.청구역','동묘앞','안암오거리','서초동삼성아파트','방배역','사당역13번출구','남성초등학교','언북중학교입구',\n",
    "'세관앞','신구중학교','금옥초등학교.금호대우아파트','장충체육관앞','대광고등학교앞','서초역2번출구','청호나이스','방배동신동아아파트','서울고사거리','방배동래미안아파트','서울교통공사','구름다리','이수역','사당역']"
   ]
  },
  {
   "cell_type": "code",
   "execution_count": 11,
   "metadata": {},
   "outputs": [],
   "source": [
    "class WTB:\n",
    "    def __init__(self, hot_place, num_vehicles, time_matrix, name_lst, input_node):\n",
    "        self.hotpalce = hot_place\n",
    "        self.num_vehicles = num_vehicles\n",
    "        self.time_matrix = time_matrix\n",
    "        self.name_lst = input_node\n",
    "        self.input_node = input_node\n",
    "\n",
    "    def initial_loop(self):\n",
    "        self.loop_initial = init_loop_vrp()\n",
    "        self.loop_route = self.loop_initial.get_loop(self.num_vehicles, self.input_node, self.time_matrix)[0]\n",
    "        self.loop_demand = self.loop_initial.get_loop(self.num_vehicles, self.input_node, self.time_matrix)[1]\n",
    "\n",
    "    def loop_to_straight(self):\n",
    "        for i in range(len(self.loop_route)):\n",
    "            self.route_time_matrix = pd.DataFrame(self.time_matrix)[self.loop_route].iloc[self.loop_route].to_numpy()\n",
    "            \n",
    "\n",
    "\n",
    "            \n",
    "\n",
    "\n",
    "\n",
    "\n",
    "    def possible_node(self):\n",
    "        self.possible_boundary = boundary()\n",
    "        self.poss_node = self.possible_boundary.all_possible_node(time_matrix, self.name_lst, self.input_node)\n",
    "\n",
    "    \n",
    "\n",
    "    def add_node(self, new_node):\n",
    "\n",
    "    \n",
    "        \n"
   ]
  },
  {
   "cell_type": "code",
   "execution_count": 12,
   "metadata": {},
   "outputs": [
    {
     "name": "stdout",
     "output_type": "stream",
     "text": [
      "Objective: 423856\n"
     ]
    },
    {
     "data": {
      "text/plain": [
       "[[0, 7, 8, 9, 6], [0, 3, 4, 5], [0, 2, 1]]"
      ]
     },
     "execution_count": 12,
     "metadata": {},
     "output_type": "execute_result"
    }
   ],
   "source": [
    "gangnam = WTB('gangnam', 3, time_matrix, range(10))\n",
    "gangnam.initial_loop()"
   ]
  },
  {
   "cell_type": "code",
   "execution_count": 25,
   "metadata": {},
   "outputs": [
    {
     "data": {
      "text/plain": [
       "array([[   0,  616, 1221],\n",
       "       [ 697,    0,  737],\n",
       "       [1317, 1244,    0]])"
      ]
     },
     "execution_count": 25,
     "metadata": {},
     "output_type": "execute_result"
    }
   ],
   "source": [
    "pd.DataFrame(time_matrix)[[1,3,5]].iloc[[1,3,5]].to_numpy()"
   ]
  },
  {
   "cell_type": "code",
   "execution_count": null,
   "metadata": {},
   "outputs": [],
   "source": []
  }
 ],
 "metadata": {
  "kernelspec": {
   "display_name": "Python 3.9.6 64-bit",
   "language": "python",
   "name": "python3"
  },
  "language_info": {
   "name": "python",
   "version": "3.9.6"
  },
  "orig_nbformat": 4,
  "vscode": {
   "interpreter": {
    "hash": "aee8b7b246df8f9039afb4144a1f6fd8d2ca17a180786b69acc140d282b71a49"
   }
  }
 },
 "nbformat": 4,
 "nbformat_minor": 2
}
