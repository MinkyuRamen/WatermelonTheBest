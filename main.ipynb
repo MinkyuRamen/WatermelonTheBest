{
 "cells": [
  {
   "cell_type": "code",
   "execution_count": 37,
   "metadata": {},
   "outputs": [],
   "source": [
    "import import_ipynb"
   ]
  },
  {
   "cell_type": "code",
   "execution_count": 38,
   "metadata": {},
   "outputs": [],
   "source": [
    "import pandas as pd\n",
    "import numpy as np"
   ]
  },
  {
   "cell_type": "code",
   "execution_count": 45,
   "metadata": {},
   "outputs": [],
   "source": [
    "os.chdir('/Users/choikyungsuk/Desktop/WatermelonTheBest/initial_vrp')"
   ]
  },
  {
   "cell_type": "code",
   "execution_count": 46,
   "metadata": {},
   "outputs": [
    {
     "ename": "",
     "evalue": "",
     "output_type": "error",
     "traceback": [
      "\u001b[1;31m현재 셀 또는 이전 셀에서 코드를 실행하는 동안 Kernel이 충돌했습니다. 셀의 코드를 검토하여 오류의 가능한 원인을 식별하세요. 자세한 내용을 보려면 <a href='https://aka.ms/vscodeJupyterKernelCrash'> 여기 </a> 를 클릭하세요. 자세한 내용은 Jupyter <a href='command:jupyter.viewOutput'>로그</a>를 참조하세요."
     ]
    },
    {
     "ename": "",
     "evalue": "",
     "output_type": "error",
     "traceback": [
      "\u001b[1;31mCanceled future for execute_request message before replies were done"
     ]
    }
   ],
   "source": [
    "from class_init_loop_vrp import init_loop_vrp\n",
    "from class_init_straight_vrp import straight_route"
   ]
  },
  {
   "cell_type": "code",
   "execution_count": 42,
   "metadata": {},
   "outputs": [],
   "source": [
    "os.chdir('/Users/choikyungsuk/Desktop/WatermelonTheBest')\n",
    "from boundary import boundary"
   ]
  },
  {
   "cell_type": "code",
   "execution_count": 43,
   "metadata": {},
   "outputs": [],
   "source": [
    "time_matrix = np.load('locate_call/강남역_경로매트릭스_예시(분).npy')\n",
    "node = np.load('locate_call/강남역_경로매트릭스_예시(분).npy')[:10,:10]\n",
    "bus_name_lst = ['강남역','학동역','현대아파트','신당동.청구역','동묘앞','안암오거리','서초동삼성아파트','방배역','사당역13번출구','남성초등학교','언북중학교입구',\n",
    "'세관앞','신구중학교','금옥초등학교.금호대우아파트','장충체육관앞','대광고등학교앞','서초역2번출구','청호나이스','방배동신동아아파트','서울고사거리','방배동래미안아파트','서울교통공사','구름다리','이수역','사당역']"
   ]
  },
  {
   "cell_type": "code",
   "execution_count": null,
   "metadata": {},
   "outputs": [],
   "source": [
    "A = WTB('gangnam',3,time_matrix,bus_name_lst,)"
   ]
  },
  {
   "cell_type": "code",
   "execution_count": 36,
   "metadata": {},
   "outputs": [],
   "source": [
    "class WTB:\n",
    "    def __init__(self, hot_place, num_vehicles, time_matrix, name_lst, input_node):\n",
    "        self.hotpalce = hot_place\n",
    "        self.num_vehicles = num_vehicles\n",
    "        self.time_matrix = time_matrix\n",
    "        self.name_lst = name_lst\n",
    "        self.input_node = input_node #초기에 들어오는 노드\n",
    "\n",
    "    def initial_loop(self):\n",
    "        self.loop_initial = init_loop_vrp()\n",
    "        initial_loop_result= self.loop_initial.get_loop(self.num_vehicles, self.input_node, self.time_matrix)[0]\n",
    "\n",
    "        self.loop_route = initial_loop_result[0] # 차량 별 loop구조로 생기는 route\n",
    "        self.loop_demand = initial_loop_result[1] # 차량 별 demand\n",
    "\n",
    "\n",
    "    def loop_to_straight(self):\n",
    "        self.loop_straight = []\n",
    "        for i in range(len(self.loop_route)):\n",
    "            loop2st = straight_route()\n",
    "            loop2st.get_straight_route(self.time_matrix, self.loop_route[i], self.name_lst,self.loop_demand[i])\n",
    "\n",
    "\n",
    "    def possible_node(self):\n",
    "        self.add_possible_node = []\n",
    "        for r in self.loop_straight:\n",
    "            possible_boundary = boundary()\n",
    "            poss_node_dict = possible_boundary.all_possible_node(self.time_matrix, self.name_lst, r)\n",
    "            self.add_possible_node.append(poss_node_dict)\n",
    "\n",
    "    \n",
    "\n",
    "    def add_node(self, new_node):\n",
    "        pass\n",
    "\n",
    "    \n",
    "        \n"
   ]
  },
  {
   "cell_type": "code",
   "execution_count": 29,
   "metadata": {},
   "outputs": [
    {
     "name": "stdout",
     "output_type": "stream",
     "text": [
      "Objective: 423856\n"
     ]
    }
   ],
   "source": [
    "gangnam = WTB('gangnam', 3, time_matrix, bus_name_lst, range(10))\n",
    "gangnam.initial_loop()"
   ]
  },
  {
   "cell_type": "code",
   "execution_count": 25,
   "metadata": {},
   "outputs": [
    {
     "data": {
      "text/plain": [
       "array([[   0,  616, 1221],\n",
       "       [ 697,    0,  737],\n",
       "       [1317, 1244,    0]])"
      ]
     },
     "execution_count": 25,
     "metadata": {},
     "output_type": "execute_result"
    }
   ],
   "source": [
    "pd.DataFrame(time_matrix)[[1,3,5]].iloc[[1,3,5]].to_numpy()"
   ]
  },
  {
   "cell_type": "code",
   "execution_count": null,
   "metadata": {},
   "outputs": [],
   "source": []
  },
  {
   "cell_type": "code",
   "execution_count": null,
   "metadata": {},
   "outputs": [],
   "source": [
    "\n"
   ]
  }
 ],
 "metadata": {
  "kernelspec": {
   "display_name": "Python 3.9.6 64-bit",
   "language": "python",
   "name": "python3"
  },
  "language_info": {
   "codemirror_mode": {
    "name": "ipython",
    "version": 3
   },
   "file_extension": ".py",
   "mimetype": "text/x-python",
   "name": "python",
   "nbconvert_exporter": "python",
   "pygments_lexer": "ipython3",
   "version": "3.9.6"
  },
  "orig_nbformat": 4,
  "vscode": {
   "interpreter": {
    "hash": "aee8b7b246df8f9039afb4144a1f6fd8d2ca17a180786b69acc140d282b71a49"
   }
  }
 },
 "nbformat": 4,
 "nbformat_minor": 2
}
