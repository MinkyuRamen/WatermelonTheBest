{
 "cells": [
  {
   "cell_type": "code",
   "execution_count": 35,
   "metadata": {},
   "outputs": [],
   "source": [
    "#!pip install ortools\n",
    "\n",
    "import pandas as pd\n",
    "import numpy as np\n",
    "import datetime\n",
    "import matplotlib.pyplot as plt\n",
    "import pickle"
   ]
  },
  {
   "cell_type": "code",
   "execution_count": 36,
   "metadata": {},
   "outputs": [],
   "source": [
    "time_matrix = np.load('고연전_MVP_테스트_경로매트릭스(분).npy')"
   ]
  },
  {
   "cell_type": "code",
   "execution_count": 37,
   "metadata": {},
   "outputs": [],
   "source": [
    "name_lst = ['안암역','이문동교회','여의도역','홍대입구역','동천학교','63빌딩.가톨릭대학교여의도성모병원','태릉입구역7번출구.서울생활사박물관','성원아파트경남아너스빌앞']"
   ]
  },
  {
   "cell_type": "code",
   "execution_count": 38,
   "metadata": {},
   "outputs": [
    {
     "data": {
      "text/plain": [
       "8"
      ]
     },
     "execution_count": 38,
     "metadata": {},
     "output_type": "execute_result"
    }
   ],
   "source": [
    "len(name_lst)"
   ]
  },
  {
   "cell_type": "code",
   "execution_count": 39,
   "metadata": {},
   "outputs": [
    {
     "data": {
      "text/plain": [
       "8"
      ]
     },
     "execution_count": 39,
     "metadata": {},
     "output_type": "execute_result"
    }
   ],
   "source": [
    "len(time_matrix)"
   ]
  },
  {
   "cell_type": "code",
   "execution_count": 40,
   "metadata": {},
   "outputs": [
    {
     "name": "stdout",
     "output_type": "stream",
     "text": [
      "Objective: 506104\n",
      "Route for vehicle 0:\n",
      "\n",
      " 정류장 이름 : 안암역  (탑승객 수: 4, 하차수: 0, 소요시간: 0:00:00) \n",
      "    ==>     정류장 이름 : 여의도역  (탑승객 수: 3, 하차수: 1, 소요시간: 0:20:52) \n",
      "    ==>     정류장 이름 : 홍대입구역  (탑승객 수: 2, 하차수: 1, 소요시간: 0:01:26) \n",
      "    ==>     정류장 이름 : 63빌딩.가톨릭대학교여의도성모병원  (탑승객 수: 1, 하차수: 1, 소요시간: 0:14:21) \n",
      "    ==>     정류장 이름 : 태릉입구역7번출구.서울생활사박물관  (탑승객 수: 0, 하차수: 1, 소요시간: 0:03:34) \n",
      "    ==>    서비스 종료\n",
      "\n",
      "Duration of the route: 0:40:13분\n",
      "Load of the route: 4\n",
      "\n",
      "Route for vehicle 1:\n",
      "\n",
      " 정류장 이름 : 안암역  (탑승객 수: 4, 하차수: 0, 소요시간: 0:00:00) \n",
      "    ==>     정류장 이름 : 이문동교회  (탑승객 수: 3, 하차수: 1, 소요시간: 0:14:40) \n",
      "    ==>     정류장 이름 : 동천학교  (탑승객 수: 2, 하차수: 1, 소요시간: 0:10:09) \n",
      "    ==>     정류장 이름 : 성원아파트경남아너스빌앞  (탑승객 수: 1, 하차수: 1, 소요시간: 0:29:26) \n",
      "    ==>    서비스 종료\n",
      "\n",
      "Duration of the route: 0:54:15분\n",
      "Load of the route: 3\n",
      "\n",
      "\n",
      "\n",
      "Total Duration of all routes: 2:26:44m\n",
      "Total load of all routes: 7\n"
     ]
    }
   ],
   "source": [
    "\"\"\"Simple Pickup Delivery Problem (PDP) + Capacited Vehicles Routing Problem (CVRP).\"\"\"\n",
    "\n",
    "from ortools.constraint_solver import routing_enums_pb2\n",
    "from ortools.constraint_solver import pywrapcp\n",
    "\n",
    "\n",
    "def create_data_model():\n",
    "    \"\"\"Stores the data for the problem.\"\"\"\n",
    "    data = {}\n",
    "    data['time_matrix'] = time_matrix\n",
    "    data['demands'] = [0]+[1 for i in range(7)]\n",
    "    data['vehicle_capacities'] = [4,4]\n",
    "    data['num_vehicles'] = 2\n",
    "    data['depot'] = 0\n",
    "    return data\n",
    "\n",
    "\n",
    "def print_solution(data, manager, routing, solution):\n",
    "    \"\"\"Prints solution on console.\"\"\"\n",
    "    print(f'Objective: {solution.ObjectiveValue()}')\n",
    "    total_time = 0\n",
    "    total_load = 0\n",
    "\n",
    "    grouped_bus_station_lst = []\n",
    "    \n",
    "\n",
    "    for vehicle_id in range(data['num_vehicles']):\n",
    "        index = routing.Start(vehicle_id)\n",
    "        plan_output = 'Route for vehicle {}:\\n\\n'.format(vehicle_id)\n",
    "        route_time = 0\n",
    "        route_time_lst = [0]\n",
    "        route_load = 0\n",
    "        i=0\n",
    "        loop_lst = []\n",
    "        while not routing.IsEnd(index):\n",
    "            node_index = manager.IndexToNode(index)\n",
    "            route_load += data['demands'][node_index]\n",
    "            \n",
    "            previous_index = index\n",
    "            index = solution.Value(routing.NextVar(index))\n",
    "            route_time_lst.append(routing.GetArcCostForVehicle(\n",
    "                previous_index, index, vehicle_id))\n",
    "            route_time += routing.GetArcCostForVehicle(\n",
    "                previous_index, index, vehicle_id)\n",
    "            loop_lst.append(node_index)\n",
    "            plan_output += ' 정류장 이름 : {0}  (탑승객 수: {1}, 하차수: {2}, 소요시간: {3}) \\n    ==>    '.format(name_lst[node_index], data['vehicle_capacities'][vehicle_id] - route_load,data['demands'][node_index],datetime.timedelta(seconds = route_time_lst[i]))\n",
    "            i+=1\n",
    "        grouped_bus_station_lst.append(loop_lst)\n",
    "        plan_output += '서비스 종료\\n\\n'\n",
    "        plan_output += 'Duration of the route: {}분\\n'.format((datetime.timedelta(seconds = route_time-route_time_lst[-1])))\n",
    "        plan_output += 'Load of the route: {}\\n'.format(route_load)\n",
    "        print(plan_output)\n",
    "        total_time += route_time\n",
    "        total_load += route_load\n",
    "    print('\\n')\n",
    "    print('Total Duration of all routes: {}m'.format(datetime.timedelta(seconds =total_time)))\n",
    "    print('Total load of all routes: {}'.format(total_load))\n",
    "   \n",
    "    grouped_bus_station = pd.DataFrame({'Vehicle':[i for i in range(2)],'bus_station':grouped_bus_station_lst})\n",
    "    \n",
    "    with open(\"grouped_bus_station.pickle\", \"wb\") as f:\n",
    "\t    pickle.dump(grouped_bus_station, f)\n",
    "\n",
    "def main():\n",
    "    \"\"\"Entry point of the program.\"\"\"\n",
    "    # Instantiate the data problem.\n",
    "    data = create_data_model()\n",
    "\n",
    "    # Create the routing index manager.\n",
    "    manager = pywrapcp.RoutingIndexManager(len(data['time_matrix']),\n",
    "                                           data['num_vehicles'], data['depot'])\n",
    "\n",
    "    # Create Routing Model.\n",
    "    routing = pywrapcp.RoutingModel(manager)\n",
    "\n",
    "\n",
    "    # 1-1. Define cost of each arc.\n",
    "    def distance_callback(from_index, to_index):\n",
    "        \"\"\"Returns the manhattan distance between the two nodes.\"\"\"\n",
    "        # Convert from routing variable Index to distance matrix NodeIndex.\n",
    "        from_node = manager.IndexToNode(from_index)\n",
    "        to_node = manager.IndexToNode(to_index)\n",
    "        return data['time_matrix'][from_node][to_node]\n",
    "\n",
    "    transit_callback_index = routing.RegisterTransitCallback(distance_callback)\n",
    "    routing.SetArcCostEvaluatorOfAllVehicles(transit_callback_index)\n",
    "\n",
    "    # 1-2.Add Distance constraint.\n",
    "    dimension_name = 'Distance'\n",
    "    routing.AddDimension(\n",
    "        transit_callback_index,\n",
    "        0,  # no slack\n",
    "        8000,  # vehicle maximum travel distance\n",
    "        True,  # start cumul to zero\n",
    "        dimension_name)\n",
    "    distance_dimension = routing.GetDimensionOrDie(dimension_name)\n",
    "    distance_dimension.SetGlobalSpanCostCoefficient(100) #이거 의미?\n",
    "\n",
    "    # 2-1.Define cost of each node.\n",
    "    def demand_callback(from_index):\n",
    "        \"\"\"Returns the demand of the node.\"\"\"\n",
    "        # Convert from routing variable Index to demands NodeIndex.\n",
    "        from_node = manager.IndexToNode(from_index)\n",
    "        return data['demands'][from_node]\n",
    "\n",
    "    demand_callback_index = routing.RegisterUnaryTransitCallback(\n",
    "        demand_callback)\n",
    "\n",
    "    # 2-2.Add Capacity constraint.\n",
    "    routing.AddDimensionWithVehicleCapacity(\n",
    "        demand_callback_index,\n",
    "        0,  # null capacity slack\n",
    "        data['vehicle_capacities'],  # vehicle maximum capacities\n",
    "        True,  # start cumul to zero\n",
    "        'Capacity')\n",
    "\n",
    "    # Setting first solution heuristic.\n",
    "    search_parameters = pywrapcp.DefaultRoutingSearchParameters()\n",
    "    search_parameters.first_solution_strategy = (\n",
    "        routing_enums_pb2.FirstSolutionStrategy.PARALLEL_CHEAPEST_INSERTION)\n",
    "\n",
    "    # Solve the problem.\n",
    "    solution = routing.SolveWithParameters(search_parameters)\n",
    "    \n",
    "\n",
    "    # Print solution on console.\n",
    "    if solution:\n",
    "      solution_dict =  print_solution(data, manager, routing, solution)\n",
    "    else:\n",
    "      print(solution)\n",
    "\n",
    "    \n",
    "  \n",
    "if __name__ == '__main__':\n",
    "    main()"
   ]
  },
  {
   "cell_type": "code",
   "execution_count": 41,
   "metadata": {},
   "outputs": [
    {
     "data": {
      "text/html": [
       "<div>\n",
       "<style scoped>\n",
       "    .dataframe tbody tr th:only-of-type {\n",
       "        vertical-align: middle;\n",
       "    }\n",
       "\n",
       "    .dataframe tbody tr th {\n",
       "        vertical-align: top;\n",
       "    }\n",
       "\n",
       "    .dataframe thead th {\n",
       "        text-align: right;\n",
       "    }\n",
       "</style>\n",
       "<table border=\"1\" class=\"dataframe\">\n",
       "  <thead>\n",
       "    <tr style=\"text-align: right;\">\n",
       "      <th></th>\n",
       "      <th>Vehicle</th>\n",
       "      <th>bus_station</th>\n",
       "    </tr>\n",
       "  </thead>\n",
       "  <tbody>\n",
       "    <tr>\n",
       "      <th>0</th>\n",
       "      <td>0</td>\n",
       "      <td>[0, 2, 3, 5, 6]</td>\n",
       "    </tr>\n",
       "    <tr>\n",
       "      <th>1</th>\n",
       "      <td>1</td>\n",
       "      <td>[0, 1, 4, 7]</td>\n",
       "    </tr>\n",
       "  </tbody>\n",
       "</table>\n",
       "</div>"
      ],
      "text/plain": [
       "   Vehicle      bus_station\n",
       "0        0  [0, 2, 3, 5, 6]\n",
       "1        1     [0, 1, 4, 7]"
      ]
     },
     "execution_count": 41,
     "metadata": {},
     "output_type": "execute_result"
    }
   ],
   "source": [
    "f = open(\"grouped_bus_station.pickle\", \"rb\")\n",
    "grouping  = pickle.load(f)\n",
    "f.close()\n",
    "\n",
    "grouping"
   ]
  },
  {
   "cell_type": "code",
   "execution_count": 42,
   "metadata": {},
   "outputs": [
    {
     "data": {
      "text/plain": [
       "array([[   0,  880, 1252, 1416, 1060, 1572, 1619, 1823],\n",
       "       [ 711,    0, 1120, 1026,  609, 1283, 1275, 1986],\n",
       "       [1367, 1025,    0,   86,  594,  841,  885, 2187],\n",
       "       [1358, 1016,  187,    0,  614,  861,  905, 2207],\n",
       "       [ 997,  635,  511,  597,    0,  545,  589, 1766],\n",
       "       [1420, 1061,  981, 1017,  653,    0,  214, 2170],\n",
       "       [1418, 1054,  966, 1001,  651,  221,    0, 2163],\n",
       "       [1718, 2039, 2039, 2171, 1847, 2359, 2405,    0]])"
      ]
     },
     "execution_count": 42,
     "metadata": {},
     "output_type": "execute_result"
    }
   ],
   "source": [
    "time_matrix"
   ]
  },
  {
   "cell_type": "code",
   "execution_count": 43,
   "metadata": {},
   "outputs": [
    {
     "data": {
      "text/plain": [
       "[[0, 880, 1060, 1823],\n",
       " [711, 0, 609, 1986],\n",
       " [997, 635, 0, 1766],\n",
       " [1718, 2039, 1847, 0]]"
      ]
     },
     "execution_count": 43,
     "metadata": {},
     "output_type": "execute_result"
    }
   ],
   "source": [
    "time_matrix = pd.DataFrame(time_matrix)\n",
    "time_matrix_0 = time_matrix[grouping['bus_station'][1]].loc[grouping['bus_station'][1]]\n",
    "time_matrix_0 = time_matrix_0.to_numpy().tolist()\n",
    "time_matrix_0"
   ]
  },
  {
   "cell_type": "code",
   "execution_count": 44,
   "metadata": {},
   "outputs": [
    {
     "data": {
      "text/plain": [
       "['안암_우신향병원', '이문동교회', '동천학교', '성원아파트경남아너스빌앞']"
      ]
     },
     "execution_count": 44,
     "metadata": {},
     "output_type": "execute_result"
    }
   ],
   "source": [
    "name_lst = ['안암_우신향병원','이문동교회','여의도역','홍대입구역','동천학교','63빌딩.가톨릭대학교여의도성모병원','태릉입구역7번출구.서울생활사박물관','성원아파트경남아너스빌앞']\n",
    "name_lst2 = [name_lst[i] for i in grouping['bus_station'][1]]\n",
    "name_lst2"
   ]
  },
  {
   "cell_type": "code",
   "execution_count": 46,
   "metadata": {},
   "outputs": [
    {
     "name": "stdout",
     "output_type": "stream",
     "text": [
      "Objective: 328755\n",
      "Route for vehicle 0:\n",
      "\n",
      " 정류장 이름 : 안암_우신향병원  (탑승객 수: 4, 하차수: 0, 소요시간: 0:00:00) \n",
      "    ==>     정류장 이름 : 이문동교회  (탑승객 수: 3, 하차수: 1, 소요시간: 0:14:40) \n",
      "    ==>     정류장 이름 : 동천학교  (탑승객 수: 2, 하차수: 1, 소요시간: 0:10:09) \n",
      "    ==>     정류장 이름 : 성원아파트경남아너스빌앞  (탑승객 수: 2, 하차수: 1, 소요시간: 0:29:26) \n",
      "    ==>    서비스 종료\n",
      "\n",
      "\n",
      "\n",
      "\n",
      "Total Duration of all routes: 0:54:15m\n",
      "Total load of all routes: 2\n"
     ]
    }
   ],
   "source": [
    "\"\"\"Simple Pickup Delivery Problem (PDP) + Capacited Vehicles Routing Problem (CVRP).\"\"\"\n",
    "\n",
    "from ortools.constraint_solver import routing_enums_pb2\n",
    "from ortools.constraint_solver import pywrapcp\n",
    "import datetime\n",
    "\n",
    "\n",
    "def create_data_model():\n",
    "    \"\"\"Stores the data for the problem.\"\"\"\n",
    "    data = {}\n",
    "    data['time_matrix'] = time_matrix_0\n",
    "    data['demands'] = [0,1,1,1] \n",
    "    data['vehicle_capacities'] = [4]\n",
    "    data['num_vehicles'] = 1\n",
    "\n",
    "    data['starts'] = [0]\n",
    "    data['ends'] = [int(np.argmax(time_matrix_0[0]))]\n",
    "\n",
    "    return data\n",
    "\n",
    "\n",
    "def print_solution(data, manager, routing, solution):\n",
    "    \"\"\"Prints solution on console.\"\"\"\n",
    "    print(f'Objective: {solution.ObjectiveValue()}')\n",
    "    total_time = 0\n",
    "    total_load = 0\n",
    "\n",
    "    for vehicle_id in range(data['num_vehicles']):\n",
    "        index = routing.Start(vehicle_id)\n",
    "        plan_output = 'Route for vehicle {}:\\n\\n'.format(vehicle_id)\n",
    "        route_time = 0\n",
    "        route_time_lst = [0]\n",
    "        route_load = 0\n",
    "        i=0\n",
    "\n",
    "        while not routing.IsEnd(index):\n",
    "            node_index = manager.IndexToNode(index)\n",
    "            route_load += data['demands'][node_index]\n",
    "            \n",
    "            previous_index = index\n",
    "            index = solution.Value(routing.NextVar(index))\n",
    "            route_time_lst.append(routing.GetArcCostForVehicle(\n",
    "                previous_index, index, vehicle_id))\n",
    "            route_time += routing.GetArcCostForVehicle(\n",
    "                previous_index, index, vehicle_id)\n",
    "\n",
    "            plan_output += ' 정류장 이름 : {0}  (탑승객 수: {1}, 하차수: {2}, 소요시간: {3}) \\n    ==>    '.format(name_lst2[node_index], route_load.sum(),data['demands'][node_index],datetime.timedelta(seconds = route_time_lst[i]))\n",
    "            i+=1\n",
    "        node_index = manager.IndexToNode(index)\n",
    "        plan_output += ' 정류장 이름 : {0}  (탑승객 수: {1}, 하차수: {2}, 소요시간: {3}) \\n    ==>    '.format(name_lst2[node_index], data['vehicle_capacities'][vehicle_id] - route_load,data['demands'][node_index],datetime.timedelta(seconds = route_time_lst[i]))\n",
    "        plan_output += '서비스 종료\\n\\n'\n",
    "        #plan_output += 'Duration of the route: {}분\\n'.format((datetime.timedelta(seconds = route_time-route_time_lst[-1])))\n",
    "        #plan_output += 'Load of the route: {}\\n'.format(route_load)\n",
    "        print(plan_output)\n",
    "        total_time += route_time\n",
    "        total_load += route_load\n",
    "    print('\\n')\n",
    "    print('Total Duration of all routes: {}m'.format(datetime.timedelta(seconds =total_time)))\n",
    "    print('Total load of all routes: {}'.format(total_load))\n",
    "   \n",
    "\n",
    "def main():\n",
    "    \"\"\"Entry point of the program.\"\"\"\n",
    "    # Instantiate the data problem.\n",
    "    data = create_data_model()\n",
    "\n",
    "    # Create the routing index manager.\n",
    "    manager = pywrapcp.RoutingIndexManager(len(data['time_matrix']),\n",
    "                                           data['num_vehicles'], data['starts'], data['ends'])\n",
    "\n",
    "    # Create Routing Model.\n",
    "    routing = pywrapcp.RoutingModel(manager)\n",
    "\n",
    "\n",
    "    # 1-1. Define cost of each arc.\n",
    "    def distance_callback(from_index, to_index):\n",
    "        \"\"\"Returns the manhattan distance between the two nodes.\"\"\"\n",
    "        # Convert from routing variable Index to distance matrix NodeIndex.\n",
    "        from_node = manager.IndexToNode(from_index)\n",
    "        to_node = manager.IndexToNode(to_index)\n",
    "        return data['time_matrix'][from_node][to_node]\n",
    "\n",
    "    transit_callback_index = routing.RegisterTransitCallback(distance_callback)\n",
    "    routing.SetArcCostEvaluatorOfAllVehicles(transit_callback_index)\n",
    "\n",
    "    # 1-2.Add Distance constraint.\n",
    "    dimension_name = 'Distance'\n",
    "    routing.AddDimension(\n",
    "        transit_callback_index,\n",
    "        0,  # no slack\n",
    "        8000,  # vehicle maximum travel distance\n",
    "        True,  # start cumul to zero\n",
    "        dimension_name)\n",
    "    distance_dimension = routing.GetDimensionOrDie(dimension_name)\n",
    "    distance_dimension.SetGlobalSpanCostCoefficient(100) #이거 의미?\n",
    "\n",
    "    # 2-1.Define cost of each node.\n",
    "    def demand_callback(from_index):\n",
    "        \"\"\"Returns the demand of the node.\"\"\"\n",
    "        # Convert from routing variable Index to demands NodeIndex.\n",
    "        from_node = manager.IndexToNode(from_index)\n",
    "        return data['demands'][from_node]\n",
    "\n",
    "    demand_callback_index = routing.RegisterUnaryTransitCallback(\n",
    "        demand_callback)\n",
    "\n",
    "    # 2-2.Add Capacity constraint.\n",
    "    routing.AddDimensionWithVehicleCapacity(\n",
    "        demand_callback_index,\n",
    "        0,  # null capacity slack\n",
    "        data['vehicle_capacities'],  # vehicle maximum capacities\n",
    "        True,  # start cumul to zero\n",
    "        'Capacity')\n",
    "\n",
    "    # Setting first solution heuristic.\n",
    "    search_parameters = pywrapcp.DefaultRoutingSearchParameters()\n",
    "    search_parameters.first_solution_strategy = (\n",
    "        routing_enums_pb2.FirstSolutionStrategy.PARALLEL_CHEAPEST_INSERTION)\n",
    "\n",
    "    # Solve the problem.\n",
    "    solution = routing.SolveWithParameters(search_parameters)\n",
    "    \n",
    "\n",
    "    # Print solution on console.\n",
    "    if solution:\n",
    "      solution_dict =  print_solution(data, manager, routing, solution)\n",
    "    else:\n",
    "      print(solution)\n",
    "\n",
    "    \n",
    "  \n",
    "if __name__ == '__main__':\n",
    "    main()"
   ]
  },
  {
   "cell_type": "code",
   "execution_count": null,
   "metadata": {},
   "outputs": [],
   "source": []
  }
 ],
 "metadata": {
  "kernelspec": {
   "display_name": "Python 3.8.12 ('base')",
   "language": "python",
   "name": "python3"
  },
  "language_info": {
   "codemirror_mode": {
    "name": "ipython",
    "version": 3
   },
   "file_extension": ".py",
   "mimetype": "text/x-python",
   "name": "python",
   "nbconvert_exporter": "python",
   "pygments_lexer": "ipython3",
   "version": "3.8.12"
  },
  "orig_nbformat": 4,
  "vscode": {
   "interpreter": {
    "hash": "649694c4a31f7edb6ddd27cc07e42858a96d44c6db4ab22e99e3ac2035c9c4de"
   }
  }
 },
 "nbformat": 4,
 "nbformat_minor": 2
}
