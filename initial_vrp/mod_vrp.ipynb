{
 "cells": [
  {
   "cell_type": "code",
   "execution_count": 12,
   "metadata": {},
   "outputs": [],
   "source": [
    "import numpy as np\n",
    "import matplotlib.pyplot as plt\n",
    "import pickle\n",
    "import pandas as pd"
   ]
  },
  {
   "cell_type": "code",
   "execution_count": 21,
   "metadata": {},
   "outputs": [],
   "source": [
    "import import_ipynb\n",
    "import os\n",
    "os.chdir('/Users/kongdowoung/Desktop/WatermelonTheBest/')\n",
    "from boundary import boundary \n",
    "os.chdir('/Users/kongdowoung/Desktop/WatermelonTheBest/initial_vrp')"
   ]
  },
  {
   "cell_type": "code",
   "execution_count": 22,
   "metadata": {},
   "outputs": [],
   "source": [
    "time_matrix = np.load('../locate_call/강남역_경로매트릭스_예시(분).npy')\n",
    "bus_name_lst = ['강남역','학동역','현대아파트','신당동.청구역','동묘앞','안암오거리','서초동삼성아파트','방배역','사당역13번출구','남성초등학교','언북중학교입구','세관앞','신구중학교','금옥초등학교.금호대우아파트','장충체육관앞','대광고등학교앞','서초역2번출구','청호나이스','방배동신동아아파트','서울고사거리','방배동래미안아파트','서울교통공사','구름다리','이수역','사당역']\n",
    "\n",
    "f = open(\"grouped_bus_station.pickle\", \"rb\")\n",
    "grouping  = pickle.load(f)\n",
    "f.close()\n",
    "route = grouping['bus_station'][0] #기존 경로 노드\n",
    "\n",
    "my_boundary = boundary()\n",
    "possible_bs_lst = my_boundary.all_possible_node(time_matrix, bus_name_lst, route)\n",
    "possible_bs_lst = [i for i in possible_bs_lst.keys()] #기존 경로 기준 승하차 가능한 노드\n",
    "\n",
    "import random \n",
    "pair = random.sample(possible_bs_lst,2) #최종 결정된 새로운 수요 노드\n",
    "\n",
    "\n",
    "final_route = route+pair #최종 노드\n",
    "name_lst2 = [bus_name_lst[i] for i in final_route]"
   ]
  },
  {
   "cell_type": "code",
   "execution_count": 23,
   "metadata": {},
   "outputs": [
    {
     "data": {
      "text/plain": [
       "[0, 7, 8, 9, 6]"
      ]
     },
     "execution_count": 23,
     "metadata": {},
     "output_type": "execute_result"
    }
   ],
   "source": [
    "route"
   ]
  },
  {
   "cell_type": "code",
   "execution_count": 24,
   "metadata": {},
   "outputs": [
    {
     "data": {
      "text/plain": [
       "[18, 19]"
      ]
     },
     "execution_count": 24,
     "metadata": {},
     "output_type": "execute_result"
    }
   ],
   "source": [
    "pair"
   ]
  },
  {
   "cell_type": "code",
   "execution_count": 25,
   "metadata": {},
   "outputs": [
    {
     "data": {
      "text/plain": [
       "['방배동신동아아파트', '서울고사거리']"
      ]
     },
     "execution_count": 25,
     "metadata": {},
     "output_type": "execute_result"
    }
   ],
   "source": [
    "[bus_name_lst[i] for i in pair]"
   ]
  },
  {
   "cell_type": "markdown",
   "metadata": {},
   "source": [
    "2. pickup_delivery location pair 구하기 (For each pair, the first entry is index of the pickup location, and the second is the index of the delivery location.)"
   ]
  },
  {
   "cell_type": "code",
   "execution_count": 26,
   "metadata": {},
   "outputs": [
    {
     "data": {
      "text/plain": [
       "[[0, 601, 936, 1038, 556, 535, 517],\n",
       " [727, 0, 276, 564, 318, 147, 140],\n",
       " [979, 359, 0, 425, 533, 506, 499],\n",
       " [929, 382, 303, 0, 483, 511, 482],\n",
       " [506, 316, 549, 809, 0, 250, 233],\n",
       " [683, 66, 299, 586, 360, 0, 96],\n",
       " [656, 94, 327, 614, 264, 28, 0]]"
      ]
     },
     "execution_count": 26,
     "metadata": {},
     "output_type": "execute_result"
    }
   ],
   "source": [
    "time_matrix = pd.DataFrame(time_matrix)\n",
    "time_matrix_0 = time_matrix[final_route].loc[final_route] #index 바꾸기\n",
    "time_matrix_0 = time_matrix_0.to_numpy().tolist()\n",
    "time_matrix_0"
   ]
  },
  {
   "cell_type": "code",
   "execution_count": 27,
   "metadata": {},
   "outputs": [
    {
     "data": {
      "text/plain": [
       "3"
      ]
     },
     "execution_count": 27,
     "metadata": {},
     "output_type": "execute_result"
    }
   ],
   "source": [
    "np.argmax(time_matrix_0[0])"
   ]
  },
  {
   "cell_type": "code",
   "execution_count": 28,
   "metadata": {},
   "outputs": [
    {
     "name": "stdout",
     "output_type": "stream",
     "text": [
      "Objective: 171397\n",
      "Route for vehicle 0:\n",
      "\n",
      " 정류장 이름 : 강남역  (탑승객 수: 5, 하차수: 0, 소요시간: 0:00:00) \n",
      "    ==>     정류장 이름 : 서초동삼성아파트  (탑승객 수: 4, 하차수: 1, 소요시간: 0:09:16) \n",
      "    ==>     정류장 이름 : 방배동신동아아파트  (탑승객 수: 3, 하차수: 1, 소요시간: 0:04:10) \n",
      "    ==>     정류장 이름 : 서울고사거리  (탑승객 수: 2, 하차수: 1, 소요시간: 0:01:36) \n",
      "    ==>     정류장 이름 : 방배역  (탑승객 수: 1, 하차수: 1, 소요시간: 0:01:34) \n",
      "    ==>     정류장 이름 : 사당역13번출구  (탑승객 수: 0, 하차수: 1, 소요시간: 0:04:36) \n",
      "    ==>     정류장 이름 : 남성초등학교  (탑승객 수: 0, 하차수: 1, 소요시간: 0:07:05) \n",
      "    ==>    서비스 종료\n",
      "\n",
      "Duration of the route: 0:21:12분\n",
      "Load of the route: 5\n",
      "\n",
      "\n",
      "\n",
      "Total Duration of all routes: 0:28:17m\n",
      "Total load of all routes: 5\n"
     ]
    }
   ],
   "source": [
    "\"\"\"Simple Pickup Delivery Problem (PDP) + Capacited Vehicles Routing Problem (CVRP).\"\"\"\n",
    "\n",
    "from ortools.constraint_solver import routing_enums_pb2\n",
    "from ortools.constraint_solver import pywrapcp\n",
    "import datetime\n",
    "\n",
    "\n",
    "def create_data_model():\n",
    "    \"\"\"Stores the data for the problem.\"\"\"\n",
    "    data = {}\n",
    "    data['time_matrix'] = time_matrix_0\n",
    "    data['demands'] = [0,1,1,1,1,1,1] #demand 바꾸기\n",
    "    data['vehicle_capacities'] = [5]\n",
    "    data['num_vehicles'] = 1\n",
    "\n",
    "    #[0, 7, 8, 9, 6] [0,1,2,3,4]\n",
    "    #[18, 19] [5,6]\n",
    "\n",
    "    data['pickups_deliveries'] = [[1,2],[5,6]]\n",
    "\n",
    "    data['starts'] = [0]\n",
    "    data['ends'] = [int(np.argmax(time_matrix_0[0]))]\n",
    "\n",
    "    return data\n",
    "\n",
    "\n",
    "def print_solution(data, manager, routing, solution):\n",
    "    \"\"\"Prints solution on console.\"\"\"\n",
    "    print(f'Objective: {solution.ObjectiveValue()}')\n",
    "    total_time = 0\n",
    "    total_load = 0\n",
    "\n",
    "    for vehicle_id in range(data['num_vehicles']):\n",
    "        index = routing.Start(vehicle_id)\n",
    "        plan_output = 'Route for vehicle {}:\\n\\n'.format(vehicle_id)\n",
    "        route_time = 0\n",
    "        route_time_lst = [0]\n",
    "        route_load = 0\n",
    "        i=0\n",
    "\n",
    "        while not routing.IsEnd(index):\n",
    "            node_index = manager.IndexToNode(index)\n",
    "            route_load += data['demands'][node_index]\n",
    "            \n",
    "            previous_index = index\n",
    "            index = solution.Value(routing.NextVar(index))\n",
    "            route_time_lst.append(routing.GetArcCostForVehicle(\n",
    "                previous_index, index, vehicle_id))\n",
    "            route_time += routing.GetArcCostForVehicle(\n",
    "                previous_index, index, vehicle_id)\n",
    "\n",
    "            plan_output += ' 정류장 이름 : {0}  (탑승객 수: {1}, 하차수: {2}, 소요시간: {3}) \\n    ==>    '.format(name_lst2[node_index], data['vehicle_capacities'][vehicle_id] - route_load,data['demands'][node_index],datetime.timedelta(seconds = route_time_lst[i]))\n",
    "            i+=1\n",
    "        node_index = manager.IndexToNode(index)\n",
    "        plan_output += ' 정류장 이름 : {0}  (탑승객 수: {1}, 하차수: {2}, 소요시간: {3}) \\n    ==>    '.format(name_lst2[node_index], data['vehicle_capacities'][vehicle_id] - route_load,data['demands'][node_index],datetime.timedelta(seconds = route_time_lst[i]))\n",
    "        plan_output += '서비스 종료\\n\\n'\n",
    "        plan_output += 'Duration of the route: {}분\\n'.format((datetime.timedelta(seconds = route_time-route_time_lst[-1])))\n",
    "        plan_output += 'Load of the route: {}\\n'.format(route_load)\n",
    "        print(plan_output)\n",
    "        total_time += route_time\n",
    "        total_load += route_load\n",
    "    print('\\n')\n",
    "    print('Total Duration of all routes: {}m'.format(datetime.timedelta(seconds =total_time)))\n",
    "    print('Total load of all routes: {}'.format(total_load))\n",
    "   \n",
    "\n",
    "def main():\n",
    "    \"\"\"Entry point of the program.\"\"\"\n",
    "    # Instantiate the data problem.\n",
    "    data = create_data_model()\n",
    "\n",
    "    # Create the routing index manager.\n",
    "    manager = pywrapcp.RoutingIndexManager(len(data['time_matrix']),\n",
    "                                           data['num_vehicles'], data['starts'], data['ends'])\n",
    "\n",
    "    # Create Routing Model.\n",
    "    routing = pywrapcp.RoutingModel(manager)\n",
    "\n",
    "\n",
    "    # 1-1. Define cost of each arc.\n",
    "    def distance_callback(from_index, to_index):\n",
    "        \"\"\"Returns the manhattan distance between the two nodes.\"\"\"\n",
    "        # Convert from routing variable Index to distance matrix NodeIndex.\n",
    "        from_node = manager.IndexToNode(from_index)\n",
    "        to_node = manager.IndexToNode(to_index)\n",
    "        return data['time_matrix'][from_node][to_node]\n",
    "\n",
    "    transit_callback_index = routing.RegisterTransitCallback(distance_callback)\n",
    "    routing.SetArcCostEvaluatorOfAllVehicles(transit_callback_index)\n",
    "\n",
    "    # 1-2.Add Distance constraint.\n",
    "    dimension_name = 'Distance'\n",
    "    routing.AddDimension(\n",
    "        transit_callback_index,\n",
    "        0,  # no slack\n",
    "        8000,  # vehicle maximum travel distance\n",
    "        True,  # start cumul to zero\n",
    "        dimension_name)\n",
    "    distance_dimension = routing.GetDimensionOrDie(dimension_name)\n",
    "    distance_dimension.SetGlobalSpanCostCoefficient(100) #이거 의미?\n",
    "\n",
    "    # 2-1.Define cost of each node.\n",
    "    def demand_callback(from_index):\n",
    "        \"\"\"Returns the demand of the node.\"\"\"\n",
    "        # Convert from routing variable Index to demands NodeIndex.\n",
    "        from_node = manager.IndexToNode(from_index)\n",
    "        return data['demands'][from_node]\n",
    "\n",
    "    demand_callback_index = routing.RegisterUnaryTransitCallback(\n",
    "        demand_callback)\n",
    "\n",
    "    # 2-2.Add Capacity constraint.\n",
    "    routing.AddDimensionWithVehicleCapacity(\n",
    "        demand_callback_index,\n",
    "        0,  # null capacity slack\n",
    "        data['vehicle_capacities'],  # vehicle maximum capacities\n",
    "        True,  # start cumul to zero\n",
    "        'Capacity')\n",
    "\n",
    "    # 3-1. Define Transportation Requests.\n",
    "    for request in data['pickups_deliveries']:\n",
    "        pickup_index = manager.NodeToIndex(int(request[0]))\n",
    "        delivery_index = manager.NodeToIndex(int(request[1]))\n",
    "        routing.AddPickupAndDelivery(pickup_index, delivery_index)\n",
    "        routing.solver().Add(\n",
    "            routing.VehicleVar(pickup_index) == routing.VehicleVar(\n",
    "                delivery_index))\n",
    "        routing.solver().Add(\n",
    "            distance_dimension.CumulVar(pickup_index) <=\n",
    "            distance_dimension.CumulVar(delivery_index))\n",
    "\n",
    "    # Setting first solution heuristic.\n",
    "    search_parameters = pywrapcp.DefaultRoutingSearchParameters()\n",
    "    search_parameters.first_solution_strategy = (\n",
    "        routing_enums_pb2.FirstSolutionStrategy.PARALLEL_CHEAPEST_INSERTION)\n",
    "\n",
    "    # Solve the problem.\n",
    "    solution = routing.SolveWithParameters(search_parameters)\n",
    "    \n",
    "\n",
    "    # Print solution on console.\n",
    "    if solution:\n",
    "      solution_dict =  print_solution(data, manager, routing, solution)\n",
    "    else:\n",
    "      print(solution)\n",
    "\n",
    "    \n",
    "  \n",
    "if __name__ == '__main__':\n",
    "    main()"
   ]
  },
  {
   "cell_type": "code",
   "execution_count": null,
   "metadata": {},
   "outputs": [],
   "source": []
  }
 ],
 "metadata": {
  "kernelspec": {
   "display_name": "Python 3.8.12 ('base')",
   "language": "python",
   "name": "python3"
  },
  "language_info": {
   "codemirror_mode": {
    "name": "ipython",
    "version": 3
   },
   "file_extension": ".py",
   "mimetype": "text/x-python",
   "name": "python",
   "nbconvert_exporter": "python",
   "pygments_lexer": "ipython3",
   "version": "3.8.12"
  },
  "orig_nbformat": 4,
  "vscode": {
   "interpreter": {
    "hash": "649694c4a31f7edb6ddd27cc07e42858a96d44c6db4ab22e99e3ac2035c9c4de"
   }
  }
 },
 "nbformat": 4,
 "nbformat_minor": 2
}
