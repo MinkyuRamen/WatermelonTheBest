{
 "cells": [
  {
   "cell_type": "code",
   "execution_count": 1,
   "metadata": {},
   "outputs": [
    {
     "name": "stdout",
     "output_type": "stream",
     "text": [
      "Requirement already satisfied: ortools in /Users/kongdowoung/opt/anaconda3/lib/python3.8/site-packages (9.4.1874)\n",
      "Requirement already satisfied: absl-py>=0.13 in /Users/kongdowoung/opt/anaconda3/lib/python3.8/site-packages (from ortools) (1.0.0)\n",
      "Requirement already satisfied: numpy>=1.13.3 in /Users/kongdowoung/opt/anaconda3/lib/python3.8/site-packages (from ortools) (1.22.0)\n",
      "Requirement already satisfied: protobuf>=3.19.4 in /Users/kongdowoung/opt/anaconda3/lib/python3.8/site-packages (from ortools) (3.19.4)\n",
      "Requirement already satisfied: six in /Users/kongdowoung/opt/anaconda3/lib/python3.8/site-packages (from absl-py>=0.13->ortools) (1.16.0)\n",
      "Requirement already satisfied: import_ipynb in /Users/kongdowoung/opt/anaconda3/lib/python3.8/site-packages (0.1.4)\n",
      "Requirement already satisfied: IPython in /Users/kongdowoung/opt/anaconda3/lib/python3.8/site-packages (from import_ipynb) (7.29.0)\n",
      "Requirement already satisfied: nbformat in /Users/kongdowoung/opt/anaconda3/lib/python3.8/site-packages (from import_ipynb) (5.1.3)\n",
      "Requirement already satisfied: jedi>=0.16 in /Users/kongdowoung/opt/anaconda3/lib/python3.8/site-packages (from IPython->import_ipynb) (0.18.1)\n",
      "Requirement already satisfied: pygments in /Users/kongdowoung/opt/anaconda3/lib/python3.8/site-packages (from IPython->import_ipynb) (2.10.0)\n",
      "Requirement already satisfied: appnope in /Users/kongdowoung/opt/anaconda3/lib/python3.8/site-packages (from IPython->import_ipynb) (0.1.2)\n",
      "Requirement already satisfied: setuptools>=18.5 in /Users/kongdowoung/opt/anaconda3/lib/python3.8/site-packages (from IPython->import_ipynb) (58.0.4)\n",
      "Requirement already satisfied: decorator in /Users/kongdowoung/opt/anaconda3/lib/python3.8/site-packages (from IPython->import_ipynb) (5.1.1)\n",
      "Requirement already satisfied: pexpect>4.3 in /Users/kongdowoung/opt/anaconda3/lib/python3.8/site-packages (from IPython->import_ipynb) (4.8.0)\n",
      "Requirement already satisfied: backcall in /Users/kongdowoung/opt/anaconda3/lib/python3.8/site-packages (from IPython->import_ipynb) (0.2.0)\n",
      "Requirement already satisfied: prompt-toolkit!=3.0.0,!=3.0.1,<3.1.0,>=2.0.0 in /Users/kongdowoung/opt/anaconda3/lib/python3.8/site-packages (from IPython->import_ipynb) (3.0.20)\n",
      "Requirement already satisfied: pickleshare in /Users/kongdowoung/opt/anaconda3/lib/python3.8/site-packages (from IPython->import_ipynb) (0.7.5)\n",
      "Requirement already satisfied: matplotlib-inline in /Users/kongdowoung/opt/anaconda3/lib/python3.8/site-packages (from IPython->import_ipynb) (0.1.2)\n",
      "Requirement already satisfied: traitlets>=4.2 in /Users/kongdowoung/opt/anaconda3/lib/python3.8/site-packages (from IPython->import_ipynb) (5.1.1)\n",
      "Requirement already satisfied: parso<0.9.0,>=0.8.0 in /Users/kongdowoung/opt/anaconda3/lib/python3.8/site-packages (from jedi>=0.16->IPython->import_ipynb) (0.8.3)\n",
      "Requirement already satisfied: ptyprocess>=0.5 in /Users/kongdowoung/opt/anaconda3/lib/python3.8/site-packages (from pexpect>4.3->IPython->import_ipynb) (0.7.0)\n",
      "Requirement already satisfied: wcwidth in /Users/kongdowoung/opt/anaconda3/lib/python3.8/site-packages (from prompt-toolkit!=3.0.0,!=3.0.1,<3.1.0,>=2.0.0->IPython->import_ipynb) (0.2.5)\n",
      "Requirement already satisfied: jsonschema!=2.5.0,>=2.4 in /Users/kongdowoung/opt/anaconda3/lib/python3.8/site-packages (from nbformat->import_ipynb) (3.2.0)\n",
      "Requirement already satisfied: jupyter-core in /Users/kongdowoung/opt/anaconda3/lib/python3.8/site-packages (from nbformat->import_ipynb) (4.9.1)\n",
      "Requirement already satisfied: ipython-genutils in /Users/kongdowoung/opt/anaconda3/lib/python3.8/site-packages (from nbformat->import_ipynb) (0.2.0)\n",
      "Requirement already satisfied: attrs>=17.4.0 in /Users/kongdowoung/opt/anaconda3/lib/python3.8/site-packages (from jsonschema!=2.5.0,>=2.4->nbformat->import_ipynb) (21.4.0)\n",
      "Requirement already satisfied: six>=1.11.0 in /Users/kongdowoung/opt/anaconda3/lib/python3.8/site-packages (from jsonschema!=2.5.0,>=2.4->nbformat->import_ipynb) (1.16.0)\n",
      "Requirement already satisfied: pyrsistent>=0.14.0 in /Users/kongdowoung/opt/anaconda3/lib/python3.8/site-packages (from jsonschema!=2.5.0,>=2.4->nbformat->import_ipynb) (0.18.0)\n"
     ]
    }
   ],
   "source": [
    "!pip install ortools\n",
    "!pip install import_ipynb\n",
    "\n",
    "import numpy as np\n",
    "import matplotlib.pyplot as plt"
   ]
  },
  {
   "cell_type": "code",
   "execution_count": 3,
   "metadata": {},
   "outputs": [
    {
     "ename": "KeyError",
     "evalue": "'matrixRoutes'",
     "output_type": "error",
     "traceback": [
      "\u001b[0;31m---------------------------------------------------------------------------\u001b[0m",
      "\u001b[0;31mKeyError\u001b[0m                                  Traceback (most recent call last)",
      "\u001b[0;32m/var/folders/6h/_5zc4j7n1znghkjggbvwb_0c0000gn/T/ipykernel_52105/2664747605.py\u001b[0m in \u001b[0;36m<module>\u001b[0;34m\u001b[0m\n\u001b[1;32m      2\u001b[0m \u001b[0;32mfrom\u001b[0m \u001b[0mmain_code\u001b[0m \u001b[0;32mimport\u001b[0m \u001b[0mdistance_matrix\u001b[0m\u001b[0;34m\u001b[0m\u001b[0;34m\u001b[0m\u001b[0m\n\u001b[1;32m      3\u001b[0m \u001b[0;34m\u001b[0m\u001b[0m\n\u001b[0;32m----> 4\u001b[0;31m \u001b[0mdistance_matrix\u001b[0m\u001b[0;34m(\u001b[0m\u001b[0;34m)\u001b[0m\u001b[0;34m\u001b[0m\u001b[0;34m\u001b[0m\u001b[0m\n\u001b[0m",
      "\u001b[0;32m~/Desktop/WatermelonTheBest/main_code.ipynb\u001b[0m in \u001b[0;36mdistance_matrix\u001b[0;34m()\u001b[0m\n",
      "\u001b[0;31mKeyError\u001b[0m: 'matrixRoutes'"
     ]
    }
   ],
   "source": [
    "import import_ipynb\n",
    "from main_code import distance_matrix\n",
    "\n",
    "distance_matrix()"
   ]
  },
  {
   "cell_type": "code",
   "execution_count": 2,
   "metadata": {},
   "outputs": [
    {
     "ename": "NameError",
     "evalue": "name 'distance_matrix' is not defined",
     "output_type": "error",
     "traceback": [
      "\u001b[0;31m---------------------------------------------------------------------------\u001b[0m",
      "\u001b[0;31mNameError\u001b[0m                                 Traceback (most recent call last)",
      "\u001b[0;32m/var/folders/6h/_5zc4j7n1znghkjggbvwb_0c0000gn/T/ipykernel_52105/3669883012.py\u001b[0m in \u001b[0;36m<module>\u001b[0;34m\u001b[0m\n\u001b[1;32m      4\u001b[0m \u001b[0;32mfrom\u001b[0m \u001b[0mortools\u001b[0m\u001b[0;34m.\u001b[0m\u001b[0mconstraint_solver\u001b[0m \u001b[0;32mimport\u001b[0m \u001b[0mpywrapcp\u001b[0m\u001b[0;34m\u001b[0m\u001b[0;34m\u001b[0m\u001b[0m\n\u001b[1;32m      5\u001b[0m \u001b[0;34m\u001b[0m\u001b[0m\n\u001b[0;32m----> 6\u001b[0;31m \u001b[0md\u001b[0m \u001b[0;34m=\u001b[0m \u001b[0mdistance_matrix\u001b[0m\u001b[0;34m(\u001b[0m\u001b[0;34m)\u001b[0m\u001b[0;34m.\u001b[0m\u001b[0mtolist\u001b[0m\u001b[0;34m(\u001b[0m\u001b[0;34m)\u001b[0m\u001b[0;34m\u001b[0m\u001b[0;34m\u001b[0m\u001b[0m\n\u001b[0m\u001b[1;32m      7\u001b[0m \u001b[0;34m\u001b[0m\u001b[0m\n\u001b[1;32m      8\u001b[0m \u001b[0;32mdef\u001b[0m \u001b[0mcreate_data_model\u001b[0m\u001b[0;34m(\u001b[0m\u001b[0;34m)\u001b[0m\u001b[0;34m:\u001b[0m\u001b[0;34m\u001b[0m\u001b[0;34m\u001b[0m\u001b[0m\n",
      "\u001b[0;31mNameError\u001b[0m: name 'distance_matrix' is not defined"
     ]
    }
   ],
   "source": [
    "\"\"\"Simple Pickup Delivery Problem (PDP).\"\"\"\n",
    "\n",
    "from ortools.constraint_solver import routing_enums_pb2\n",
    "from ortools.constraint_solver import pywrapcp\n",
    "\n",
    "d = distance_matrix().tolist()\n",
    "\n",
    "def create_data_model():\n",
    "    \"\"\"Stores the data for the problem.\"\"\"\n",
    "    data = {}\n",
    "    data['distance_matrix'] = d\n",
    "    data['pickups_deliveries'] = [\n",
    "        [1, 6],\n",
    "        [2, 10],\n",
    "        [4, 3],\n",
    "        [5, 9],\n",
    "        [7, 8],\n",
    "        [15, 19],\n",
    "        [13, 12],\n",
    "        [16, 14],\n",
    "        [11, 18],\n",
    "        [17, 20]\n",
    "    ]\n",
    "    data['num_vehicles'] = 4\n",
    "    data['depot'] = 0\n",
    "    return data\n",
    "\n",
    "\n",
    "def print_solution(data, manager, routing, solution):\n",
    "    \"\"\"Prints solution on console.\"\"\"\n",
    "    print(f'Objective: {solution.ObjectiveValue()}')\n",
    "    total_distance = 0\n",
    "    solutions = {}\n",
    "    for vehicle_id in range(data['num_vehicles']):\n",
    "        index = routing.Start(vehicle_id)\n",
    "        plan_output = 'Route for vehicle {}:\\n'.format(vehicle_id)\n",
    "        route_distance = 0\n",
    "        vehicle_solution = []\n",
    "        while not routing.IsEnd(index):\n",
    "            vehicle_solution.append(manager.IndexToNode(index))\n",
    "            plan_output += ' {} -> '.format(manager.IndexToNode(index))\n",
    "            previous_index = index\n",
    "            index = solution.Value(routing.NextVar(index))\n",
    "            route_distance += routing.GetArcCostForVehicle(\n",
    "                previous_index, index, vehicle_id)\n",
    "        plan_output += '{}\\n'.format(manager.IndexToNode(index))\n",
    "        plan_output += 'Distance of the route: {}m\\n'.format(route_distance)\n",
    "        print(plan_output)\n",
    "        total_distance += route_distance\n",
    "        solutions[vehicle_id] = vehicle_solution\n",
    "    print('Total Distance of all routes: {}m'.format(total_distance))\n",
    "    return solutions\n",
    "\n",
    "def main():\n",
    "    \"\"\"Entry point of the program.\"\"\"\n",
    "    # Instantiate the data problem.\n",
    "    data = create_data_model()\n",
    "\n",
    "    # Create the routing index manager.\n",
    "    manager = pywrapcp.RoutingIndexManager(len(data['distance_matrix']),\n",
    "                                           data['num_vehicles'], data['depot'])\n",
    "\n",
    "    # Create Routing Model.\n",
    "    routing = pywrapcp.RoutingModel(manager)\n",
    "\n",
    "\n",
    "    # Define cost of each arc.\n",
    "    def distance_callback(from_index, to_index):\n",
    "        \"\"\"Returns the manhattan distance between the two nodes.\"\"\"\n",
    "        # Convert from routing variable Index to distance matrix NodeIndex.\n",
    "        from_node = manager.IndexToNode(from_index)\n",
    "        to_node = manager.IndexToNode(to_index)\n",
    "        return data['distance_matrix'][from_node][to_node]\n",
    "\n",
    "    transit_callback_index = routing.RegisterTransitCallback(distance_callback)\n",
    "    routing.SetArcCostEvaluatorOfAllVehicles(transit_callback_index)\n",
    "\n",
    "    # Add Distance constraint.\n",
    "    dimension_name = 'Distance'\n",
    "    routing.AddDimension(\n",
    "        transit_callback_index,\n",
    "        0,  # no slack\n",
    "        3000,  # vehicle maximum travel distance\n",
    "        True,  # start cumul to zero\n",
    "        dimension_name)\n",
    "    distance_dimension = routing.GetDimensionOrDie(dimension_name)\n",
    "    distance_dimension.SetGlobalSpanCostCoefficient(100)\n",
    "\n",
    "    # Define Transportation Requests.\n",
    "    for request in data['pickups_deliveries']:\n",
    "        pickup_index = manager.NodeToIndex(request[0])\n",
    "        delivery_index = manager.NodeToIndex(request[1])\n",
    "        routing.AddPickupAndDelivery(pickup_index, delivery_index)\n",
    "        routing.solver().Add(\n",
    "            routing.VehicleVar(pickup_index) == routing.VehicleVar(\n",
    "                delivery_index))\n",
    "        routing.solver().Add(\n",
    "            distance_dimension.CumulVar(pickup_index) <=\n",
    "            distance_dimension.CumulVar(delivery_index))\n",
    "\n",
    "    # Setting first solution heuristic.\n",
    "    search_parameters = pywrapcp.DefaultRoutingSearchParameters()\n",
    "    search_parameters.first_solution_strategy = (\n",
    "        routing_enums_pb2.FirstSolutionStrategy.PARALLEL_CHEAPEST_INSERTION)\n",
    "\n",
    "    # Solve the problem.\n",
    "    solution = routing.SolveWithParameters(search_parameters)\n",
    "\n",
    "    # Print solution on console.\n",
    "    if solution:\n",
    "      solution_dict =  print_solution(data, manager, routing, solution)"
   ]
  },
  {
   "cell_type": "code",
   "execution_count": null,
   "metadata": {},
   "outputs": [
    {
     "ename": "",
     "evalue": "",
     "output_type": "error",
     "traceback": [
      "\u001b[1;31m현재 셀 또는 이전 셀에서 코드를 실행하는 동안 Kernel이 충돌했습니다. 셀의 코드를 검토하여 오류의 가능한 원인을 식별하세요. 자세한 내용을 보려면 <a href='https://aka.ms/vscodeJupyterKernelCrash'> 여기 </a> 를 클릭하세요. 자세한 내용은 Jupyter <a href='command:jupyter.viewOutput'>로그</a>를 참조하세요."
     ]
    },
    {
     "ename": "",
     "evalue": "",
     "output_type": "error",
     "traceback": [
      "\u001b[1;31mCanceled future for execute_request message before replies were done"
     ]
    }
   ],
   "source": [
    "main()"
   ]
  },
  {
   "cell_type": "code",
   "execution_count": null,
   "metadata": {},
   "outputs": [],
   "source": []
  }
 ],
 "metadata": {
  "kernelspec": {
   "display_name": "Python 3.10.5 64-bit",
   "language": "python",
   "name": "python3"
  },
  "language_info": {
   "codemirror_mode": {
    "name": "ipython",
    "version": 3
   },
   "file_extension": ".py",
   "mimetype": "text/x-python",
   "name": "python",
   "nbconvert_exporter": "python",
   "pygments_lexer": "ipython3",
   "version": "3.10.5"
  },
  "orig_nbformat": 4,
  "vscode": {
   "interpreter": {
    "hash": "aee8b7b246df8f9039afb4144a1f6fd8d2ca17a180786b69acc140d282b71a49"
   }
  }
 },
 "nbformat": 4,
 "nbformat_minor": 2
}
