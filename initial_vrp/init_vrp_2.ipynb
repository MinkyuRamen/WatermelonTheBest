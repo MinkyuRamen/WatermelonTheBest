{
 "cells": [
  {
   "cell_type": "code",
   "execution_count": 59,
   "metadata": {},
   "outputs": [],
   "source": [
    "#!pip install ortools\n",
    "\n",
    "import pandas as pd\n",
    "import numpy as np\n",
    "import datetime\n",
    "import matplotlib.pyplot as plt\n",
    "import pickle"
   ]
  },
  {
   "cell_type": "code",
   "execution_count": 41,
   "metadata": {},
   "outputs": [
    {
     "data": {
      "text/plain": [
       "10"
      ]
     },
     "execution_count": 41,
     "metadata": {},
     "output_type": "execute_result"
    }
   ],
   "source": [
    "time_matrix = np.load('../locate_call/강남역_경로매트릭스_예시(분).npy')\n",
    "d = time_matrix[:10,:10].tolist()\n",
    "len(d)"
   ]
  },
  {
   "cell_type": "code",
   "execution_count": 42,
   "metadata": {},
   "outputs": [],
   "source": [
    "name_lst = ['강남역','학동역','현대아파트','신당동.청구역','동묘앞역','안암오거리','서초동삼성아파트','방배역','사당역13번출구','남성초등학교','언북중학교입구','세관앞','신구중학교','금옥초등학교.금호대우아파트','장충체육관앞','대광고등학교앞','서초역2번출구','청호나이스','방배동신동아파트','서울고사거리','방배동래미안아파트','서울교통공사','구름다리','이수역','사당역'][:10]"
   ]
  },
  {
   "cell_type": "code",
   "execution_count": 43,
   "metadata": {},
   "outputs": [
    {
     "data": {
      "text/plain": [
       "array([[   0,  467, 1840,  994, 1420, 1558,  556,  601,  936, 1038],\n",
       "       [ 636,    0, 1504,  616, 1006, 1221,  986, 1024, 1238, 1221],\n",
       "       [2241, 1662,    0, 1737, 1797, 1297, 2206, 2464, 2581, 2479],\n",
       "       [1238,  697, 1828,    0,  390,  737, 1338, 1296, 1510, 1611],\n",
       "       [1813, 1234, 1456,  938,    0,  346, 1778, 2036, 2153, 2051],\n",
       "       [1897, 1317, 1216, 1244,  756,    0, 1862, 2119, 2236, 2134],\n",
       "       [ 506,  820, 1792, 1116, 1644, 1509,    0,  316,  549,  809],\n",
       "       [ 727, 1091, 1966, 1291, 1818, 1684,  318,    0,  276,  564],\n",
       "       [ 979, 1210, 2023, 1460, 1886, 1741,  533,  359,    0,  425],\n",
       "       [ 929, 1055, 1868, 1305, 1731, 1586,  483,  382,  303,    0]])"
      ]
     },
     "execution_count": 43,
     "metadata": {},
     "output_type": "execute_result"
    }
   ],
   "source": [
    "time_matrix[:10,:10]"
   ]
  },
  {
   "cell_type": "code",
   "execution_count": 60,
   "metadata": {},
   "outputs": [
    {
     "name": "stdout",
     "output_type": "stream",
     "text": [
      "Objective: 518983\n",
      "Route for vehicle 0:\n",
      "\n",
      " 정류장 이름 : 강남역  (탑승객 수: 4, 하차수: 0, 소요시간: 0:00:00) \n",
      "    ==>     정류장 이름 : 방배역  (탑승객 수: 3, 하차수: 1, 소요시간: 0:10:01) \n",
      "    ==>     정류장 이름 : 사당역13번출구  (탑승객 수: 2, 하차수: 1, 소요시간: 0:04:36) \n",
      "    ==>     정류장 이름 : 남성초등학교  (탑승객 수: 1, 하차수: 1, 소요시간: 0:07:05) \n",
      "    ==>     정류장 이름 : 서초동삼성아파트  (탑승객 수: 0, 하차수: 1, 소요시간: 0:08:03) \n",
      "    ==>    서비스 종료\n",
      "\n",
      "Duration of the route: 0:29:45분\n",
      "Load of the route: 4\n",
      "\n",
      "Route for vehicle 1:\n",
      "\n",
      " 정류장 이름 : 강남역  (탑승객 수: 4, 하차수: 0, 소요시간: 0:00:00) \n",
      "    ==>     정류장 이름 : 안암오거리  (탑승객 수: 3, 하차수: 1, 소요시간: 0:25:58) \n",
      "    ==>     정류장 이름 : 학동역  (탑승객 수: 0, 하차수: 3, 소요시간: 0:21:57) \n",
      "    ==>    서비스 종료\n",
      "\n",
      "Duration of the route: 0:47:55분\n",
      "Load of the route: 4\n",
      "\n",
      "Route for vehicle 2:\n",
      "\n",
      " 정류장 이름 : 강남역  (탑승객 수: 4, 하차수: 0, 소요시간: 0:00:00) \n",
      "    ==>     정류장 이름 : 신당동.청구역  (탑승객 수: 3, 하차수: 1, 소요시간: 0:16:34) \n",
      "    ==>     정류장 이름 : 동묘앞역  (탑승객 수: 2, 하차수: 1, 소요시간: 0:06:30) \n",
      "    ==>     정류장 이름 : 현대아파트  (탑승객 수: 0, 하차수: 2, 소요시간: 0:24:16) \n",
      "    ==>    서비스 종료\n",
      "\n",
      "Duration of the route: 0:47:20분\n",
      "Load of the route: 4\n",
      "\n",
      "\n",
      "\n",
      "Total Duration of all routes: 3:01:23m\n",
      "Total load of all routes: 12\n"
     ]
    }
   ],
   "source": [
    "\"\"\"Simple Pickup Delivery Problem (PDP) + Capacited Vehicles Routing Problem (CVRP).\"\"\"\n",
    "\n",
    "from ortools.constraint_solver import routing_enums_pb2\n",
    "from ortools.constraint_solver import pywrapcp\n",
    "\n",
    "\n",
    "def create_data_model():\n",
    "    \"\"\"Stores the data for the problem.\"\"\"\n",
    "    data = {}\n",
    "    data['time_matrix'] = d\n",
    "    data['demands'] = [0,3,2] + [1 for i in range(7)]+[0] \n",
    "    data['vehicle_capacities'] = [4,4,4]\n",
    "    data['num_vehicles'] = 3\n",
    "    data['depot'] = 0\n",
    "    return data\n",
    "\n",
    "\n",
    "def print_solution(data, manager, routing, solution):\n",
    "    \"\"\"Prints solution on console.\"\"\"\n",
    "    print(f'Objective: {solution.ObjectiveValue()}')\n",
    "    total_time = 0\n",
    "    total_load = 0\n",
    "\n",
    "    grouped_bus_station_lst = []\n",
    "    \n",
    "\n",
    "    for vehicle_id in range(data['num_vehicles']):\n",
    "        index = routing.Start(vehicle_id)\n",
    "        plan_output = 'Route for vehicle {}:\\n\\n'.format(vehicle_id)\n",
    "        route_time = 0\n",
    "        route_time_lst = [0]\n",
    "        route_load = 0\n",
    "        i=0\n",
    "        loop_lst = []\n",
    "        while not routing.IsEnd(index):\n",
    "            node_index = manager.IndexToNode(index)\n",
    "            route_load += data['demands'][node_index]\n",
    "            \n",
    "            previous_index = index\n",
    "            index = solution.Value(routing.NextVar(index))\n",
    "            route_time_lst.append(routing.GetArcCostForVehicle(\n",
    "                previous_index, index, vehicle_id))\n",
    "            route_time += routing.GetArcCostForVehicle(\n",
    "                previous_index, index, vehicle_id)\n",
    "            loop_lst.append(node_index)\n",
    "            plan_output += ' 정류장 이름 : {0}  (탑승객 수: {1}, 하차수: {2}, 소요시간: {3}) \\n    ==>    '.format(name_lst[node_index], data['vehicle_capacities'][vehicle_id] - route_load,data['demands'][node_index],datetime.timedelta(seconds = route_time_lst[i]))\n",
    "            i+=1\n",
    "        grouped_bus_station_lst.append(loop_lst)\n",
    "        plan_output += '서비스 종료\\n\\n'\n",
    "        plan_output += 'Duration of the route: {}분\\n'.format((datetime.timedelta(seconds = route_time-route_time_lst[-1])))\n",
    "        plan_output += 'Load of the route: {}\\n'.format(route_load)\n",
    "        print(plan_output)\n",
    "        total_time += route_time\n",
    "        total_load += route_load\n",
    "    print('\\n')\n",
    "    print('Total Duration of all routes: {}m'.format(datetime.timedelta(seconds =total_time)))\n",
    "    print('Total load of all routes: {}'.format(total_load))\n",
    "   \n",
    "    grouped_bus_station = pd.DataFrame({'Vehicle':[i for i in range(3)],'bus_station':grouped_bus_station_lst})\n",
    "    \n",
    "    with open(\"grouped_bus_station.pickle\", \"wb\") as f:\n",
    "\t    pickle.dump(grouped_bus_station, f)\n",
    "\n",
    "def main():\n",
    "    \"\"\"Entry point of the program.\"\"\"\n",
    "    # Instantiate the data problem.\n",
    "    data = create_data_model()\n",
    "\n",
    "    # Create the routing index manager.\n",
    "    manager = pywrapcp.RoutingIndexManager(len(data['time_matrix']),\n",
    "                                           data['num_vehicles'], data['depot'])\n",
    "\n",
    "    # Create Routing Model.\n",
    "    routing = pywrapcp.RoutingModel(manager)\n",
    "\n",
    "\n",
    "    # 1-1. Define cost of each arc.\n",
    "    def distance_callback(from_index, to_index):\n",
    "        \"\"\"Returns the manhattan distance between the two nodes.\"\"\"\n",
    "        # Convert from routing variable Index to distance matrix NodeIndex.\n",
    "        from_node = manager.IndexToNode(from_index)\n",
    "        to_node = manager.IndexToNode(to_index)\n",
    "        return data['time_matrix'][from_node][to_node]\n",
    "\n",
    "    transit_callback_index = routing.RegisterTransitCallback(distance_callback)\n",
    "    routing.SetArcCostEvaluatorOfAllVehicles(transit_callback_index)\n",
    "\n",
    "    # 1-2.Add Distance constraint.\n",
    "    dimension_name = 'Distance'\n",
    "    routing.AddDimension(\n",
    "        transit_callback_index,\n",
    "        0,  # no slack\n",
    "        8000,  # vehicle maximum travel distance\n",
    "        True,  # start cumul to zero\n",
    "        dimension_name)\n",
    "    distance_dimension = routing.GetDimensionOrDie(dimension_name)\n",
    "    distance_dimension.SetGlobalSpanCostCoefficient(100) #이거 의미?\n",
    "\n",
    "    # 2-1.Define cost of each node.\n",
    "    def demand_callback(from_index):\n",
    "        \"\"\"Returns the demand of the node.\"\"\"\n",
    "        # Convert from routing variable Index to demands NodeIndex.\n",
    "        from_node = manager.IndexToNode(from_index)\n",
    "        return data['demands'][from_node]\n",
    "\n",
    "    demand_callback_index = routing.RegisterUnaryTransitCallback(\n",
    "        demand_callback)\n",
    "\n",
    "    # 2-2.Add Capacity constraint.\n",
    "    routing.AddDimensionWithVehicleCapacity(\n",
    "        demand_callback_index,\n",
    "        0,  # null capacity slack\n",
    "        data['vehicle_capacities'],  # vehicle maximum capacities\n",
    "        True,  # start cumul to zero\n",
    "        'Capacity')\n",
    "\n",
    "    # Setting first solution heuristic.\n",
    "    search_parameters = pywrapcp.DefaultRoutingSearchParameters()\n",
    "    search_parameters.first_solution_strategy = (\n",
    "        routing_enums_pb2.FirstSolutionStrategy.PARALLEL_CHEAPEST_INSERTION)\n",
    "\n",
    "    # Solve the problem.\n",
    "    solution = routing.SolveWithParameters(search_parameters)\n",
    "    \n",
    "\n",
    "    # Print solution on console.\n",
    "    if solution:\n",
    "      solution_dict =  print_solution(data, manager, routing, solution)\n",
    "    else:\n",
    "      print(solution)\n",
    "\n",
    "    \n",
    "  \n",
    "if __name__ == '__main__':\n",
    "    main()"
   ]
  },
  {
   "cell_type": "code",
   "execution_count": null,
   "metadata": {},
   "outputs": [],
   "source": [
    "\n"
   ]
  }
 ],
 "metadata": {
  "kernelspec": {
   "display_name": "Python 3.9.6 64-bit",
   "language": "python",
   "name": "python3"
  },
  "language_info": {
   "codemirror_mode": {
    "name": "ipython",
    "version": 3
   },
   "file_extension": ".py",
   "mimetype": "text/x-python",
   "name": "python",
   "nbconvert_exporter": "python",
   "pygments_lexer": "ipython3",
   "version": "3.9.6"
  },
  "orig_nbformat": 4,
  "vscode": {
   "interpreter": {
    "hash": "aee8b7b246df8f9039afb4144a1f6fd8d2ca17a180786b69acc140d282b71a49"
   }
  }
 },
 "nbformat": 4,
 "nbformat_minor": 2
}
