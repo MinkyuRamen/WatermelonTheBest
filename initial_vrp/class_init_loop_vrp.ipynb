{
 "cells": [
  {
   "cell_type": "code",
   "execution_count": 7,
   "metadata": {},
   "outputs": [],
   "source": [
    "#!pip install ortools\n",
    "import pandas as pd\n",
    "import numpy as np\n",
    "import datetime\n",
    "import matplotlib.pyplot as plt"
   ]
  },
  {
   "cell_type": "code",
   "execution_count": 8,
   "metadata": {},
   "outputs": [],
   "source": [
    "from ortools.constraint_solver import routing_enums_pb2\n",
    "from ortools.constraint_solver import pywrapcp"
   ]
  },
  {
   "cell_type": "code",
   "execution_count": 9,
   "metadata": {},
   "outputs": [],
   "source": [
    "class init_loop_vrp:\n",
    "    def __init__(self):\n",
    "        pass\n",
    "        \n",
    "    def print_solution(self):\n",
    "        \"\"\"Prints solution on console.\"\"\"\n",
    "        print(f'Objective: {self.solution.ObjectiveValue()}')\n",
    "        #total_time = 0\n",
    "        #total_load = 0\n",
    "        self.all_loop_route = []\n",
    "        self.demand_route = []\n",
    "        for vehicle_id in range(self.data['num_vehicles']):\n",
    "            self.vehicle_route = []\n",
    "            index = self.routing.Start(vehicle_id)\n",
    "\n",
    "            while not self.routing.IsEnd(index):\n",
    "                node_index = self.manager.IndexToNode(index)\n",
    "                previous_index = index\n",
    "                index = self.solution.Value(self.routing.NextVar(index))\n",
    "                self.vehicle_route.append(node_index)\n",
    "\n",
    "            self.all_loop_route.append(self.vehicle_route)\n",
    "          \n",
    "        for route in self.all_loop_route:\n",
    "            self.car_demand = []\n",
    "            for i in route:\n",
    "                self.car_demand.append(self.data['demands'][i])\n",
    "\n",
    "            self.demand_route.append(self.car_demand)\n",
    "\n",
    "    def get_loop(self, num_vehicles, input_node, time_matrix):\n",
    "        '''\n",
    "        num_vehicles : 사용할 차량 대수 (int)\n",
    "        input_node : 초기에 사용자가 신청한 노드의 index (list)\n",
    "        time_matrix : 가능한 모든 노드 간의 time matrix (array)\n",
    "        '''\n",
    "        \"\"\"Entry point of the program.\"\"\"\n",
    "        # Instantiate the data problem.\n",
    "        self.data = {}\n",
    "        self.data['num_vehicles'] = num_vehicles\n",
    "        self.data['time_matrix'] = pd.DataFrame(time_matrix)[input_node].iloc[input_node].to_numpy()\n",
    "        self.data['vehicle_capacities'] = [int(input()) for _ in range(num_vehicles)]\n",
    "        #print(self.data['vehicle_capacities'])\n",
    "        self.data['demands'] = [0,2,2] + [1 for i in range(8)]  #[0] + [sum(self.data['vehicle_capacities'])-len(time_matrix)] + [1 for i in range(len(time_matrix))] \n",
    "        self.data['depot'] = 0\n",
    "\n",
    "        # Create the routing index manager.\n",
    "        self.manager = pywrapcp.RoutingIndexManager(len(self.data['time_matrix']), self.data['num_vehicles'], self.data['depot'])\n",
    "\n",
    "        # Create Routing Model.\n",
    "        self.routing = pywrapcp.RoutingModel(self.manager)\n",
    "\n",
    "\n",
    "        # 1-1. Define cost of each arc.\n",
    "        def distance_callback(from_index, to_index):\n",
    "            \"\"\"Returns the manhattan distance between the two nodes.\"\"\"\n",
    "            # Convert from routing variable Index to distance matrix NodeIndex.\n",
    "            from_node = self.manager.IndexToNode(from_index)\n",
    "            to_node = self.manager.IndexToNode(to_index)\n",
    "            return self.data['time_matrix'][from_node][to_node]\n",
    "\n",
    "        transit_callback_index = self.routing.RegisterTransitCallback(distance_callback)\n",
    "        self.routing.SetArcCostEvaluatorOfAllVehicles(transit_callback_index)\n",
    "\n",
    "        # 1-2.Add Distance constraint.\n",
    "        dimension_name = 'Distance'\n",
    "        self.routing.AddDimension(\n",
    "            transit_callback_index,\n",
    "            0,  # no slack\n",
    "            30000,  # vehicle maximum travel distance\n",
    "            True,  # start cumul to zero\n",
    "            dimension_name)\n",
    "\n",
    "        distance_dimension = self.routing.GetDimensionOrDie(dimension_name)\n",
    "        distance_dimension.SetGlobalSpanCostCoefficient(100)\n",
    "\n",
    "        # 2-1.Define cost of each node.\n",
    "        def demand_callback(from_index):\n",
    "            \"\"\"Returns the demand of the node.\"\"\"\n",
    "            # Convert from routing variable Index to demands NodeIndex.\n",
    "            from_node = self.manager.IndexToNode(from_index)\n",
    "            return self.data['demands'][from_node]\n",
    "\n",
    "        demand_callback_index = self.routing.RegisterUnaryTransitCallback(\n",
    "            demand_callback)\n",
    "\n",
    "        # 2-2.Add Capacity constraint.\n",
    "        self.routing.AddDimensionWithVehicleCapacity(\n",
    "            demand_callback_index,\n",
    "            0,  # null capacity slack\n",
    "            self.data['vehicle_capacities'],  # vehicle maximum capacities\n",
    "            True,  # start cumul to zero\n",
    "            'Capacity')\n",
    "\n",
    "        # Setting first solution heuristic.\n",
    "        search_parameters = pywrapcp.DefaultRoutingSearchParameters()\n",
    "        search_parameters.first_solution_strategy = (\n",
    "            routing_enums_pb2.FirstSolutionStrategy.PARALLEL_CHEAPEST_INSERTION)\n",
    "\n",
    "        # Solve the problem.\n",
    "        self.solution = self.routing.SolveWithParameters(search_parameters)\n",
    "    \n",
    "\n",
    "        # Print solution on console.\n",
    "        if self.solution:\n",
    "            self.print_solution()\n",
    "            return self.all_loop_route, self.demand_route\n",
    "        else:\n",
    "            print(self.solution)"
   ]
  },
  {
   "cell_type": "code",
   "execution_count": 10,
   "metadata": {},
   "outputs": [],
   "source": [
    "time_matrix = np.load('../locate_call/강남역_경로매트릭스_예시(분).npy')\n",
    "node = np.load('../locate_call/강남역_경로매트릭스_예시(분).npy')[:10,:10]\n",
    "bus_name_lst = ['강남역','학동역','현대아파트','신당동.청구역','동묘앞','안암오거리','서초동삼성아파트','방배역','사당역13번출구','남성초등학교','언북중학교입구',\n",
    "'세관앞','신구중학교','금옥초등학교.금호대우아파트','장충체육관앞','대광고등학교앞','서초역2번출구','청호나이스','방배동신동아아파트','서울고사거리','방배동래미안아파트','서울교통공사','구름다리','이수역','사당역']"
   ]
  },
  {
   "cell_type": "code",
   "execution_count": 11,
   "metadata": {},
   "outputs": [],
   "source": [
    "my_sol = init_loop_vrp()"
   ]
  },
  {
   "cell_type": "code",
   "execution_count": 12,
   "metadata": {},
   "outputs": [
    {
     "name": "stdout",
     "output_type": "stream",
     "text": [
      "Objective: 423856\n"
     ]
    },
    {
     "data": {
      "text/plain": [
       "([[0, 7, 8, 9, 6], [0, 3, 4, 5], [0, 2, 1]],\n",
       " [[0, 1, 1, 1, 1], [0, 1, 1, 1], [0, 2, 2]])"
      ]
     },
     "execution_count": 12,
     "metadata": {},
     "output_type": "execute_result"
    }
   ],
   "source": [
    "my_sol.get_loop(3, range(10), time_matrix)"
   ]
  },
  {
   "cell_type": "code",
   "execution_count": null,
   "metadata": {},
   "outputs": [],
   "source": []
  }
 ],
 "metadata": {
  "kernelspec": {
   "display_name": "Python 3.9.6 64-bit",
   "language": "python",
   "name": "python3"
  },
  "language_info": {
   "codemirror_mode": {
    "name": "ipython",
    "version": 3
   },
   "file_extension": ".py",
   "mimetype": "text/x-python",
   "name": "python",
   "nbconvert_exporter": "python",
   "pygments_lexer": "ipython3",
   "version": "3.9.6"
  },
  "orig_nbformat": 4,
  "vscode": {
   "interpreter": {
    "hash": "aee8b7b246df8f9039afb4144a1f6fd8d2ca17a180786b69acc140d282b71a49"
   }
  }
 },
 "nbformat": 4,
 "nbformat_minor": 2
}
