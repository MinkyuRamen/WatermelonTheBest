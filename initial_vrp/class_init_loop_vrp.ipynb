{
 "cells": [
  {
   "cell_type": "code",
   "execution_count": 14,
   "metadata": {},
   "outputs": [
    {
     "ename": "ImportError",
     "evalue": "cannot import name 'np_version_under1p18' from 'pandas.compat' (/Users/choikyungsuk/opt/anaconda3/envs/DAB/lib/python3.8/site-packages/pandas/compat/__init__.py)",
     "output_type": "error",
     "traceback": [
      "\u001b[0;31m---------------------------------------------------------------------------\u001b[0m",
      "\u001b[0;31mImportError\u001b[0m                               Traceback (most recent call last)",
      "\u001b[1;32m/Users/choikyungsuk/Desktop/WatermelonTheBest/initial_vrp/class_init_loop_vrp.ipynb 셀 1\u001b[0m in \u001b[0;36m<cell line: 5>\u001b[0;34m()\u001b[0m\n\u001b[1;32m      <a href='vscode-notebook-cell:/Users/choikyungsuk/Desktop/WatermelonTheBest/initial_vrp/class_init_loop_vrp.ipynb#X10sZmlsZQ%3D%3D?line=2'>3</a>\u001b[0m \u001b[39mimport\u001b[39;00m \u001b[39mdatetime\u001b[39;00m\n\u001b[1;32m      <a href='vscode-notebook-cell:/Users/choikyungsuk/Desktop/WatermelonTheBest/initial_vrp/class_init_loop_vrp.ipynb#X10sZmlsZQ%3D%3D?line=3'>4</a>\u001b[0m \u001b[39mimport\u001b[39;00m \u001b[39mmatplotlib\u001b[39;00m\u001b[39m.\u001b[39;00m\u001b[39mpyplot\u001b[39;00m \u001b[39mas\u001b[39;00m \u001b[39mplt\u001b[39;00m\n\u001b[0;32m----> <a href='vscode-notebook-cell:/Users/choikyungsuk/Desktop/WatermelonTheBest/initial_vrp/class_init_loop_vrp.ipynb#X10sZmlsZQ%3D%3D?line=4'>5</a>\u001b[0m \u001b[39mimport\u001b[39;00m \u001b[39mpandas\u001b[39;00m \u001b[39mas\u001b[39;00m \u001b[39mpd\u001b[39;00m\n",
      "File \u001b[0;32m~/opt/anaconda3/envs/DAB/lib/python3.8/site-packages/pandas/__init__.py:22\u001b[0m, in \u001b[0;36m<module>\u001b[0;34m\u001b[0m\n\u001b[1;32m     19\u001b[0m \u001b[39mdel\u001b[39;00m _hard_dependencies, _dependency, _missing_dependencies\n\u001b[1;32m     21\u001b[0m \u001b[39m# numpy compat\u001b[39;00m\n\u001b[0;32m---> 22\u001b[0m \u001b[39mfrom\u001b[39;00m \u001b[39mpandas\u001b[39;00m\u001b[39m.\u001b[39;00m\u001b[39mcompat\u001b[39;00m \u001b[39mimport\u001b[39;00m is_numpy_dev \u001b[39mas\u001b[39;00m _is_numpy_dev  \u001b[39m# pyright: ignore # noqa:F401\u001b[39;00m\n\u001b[1;32m     24\u001b[0m \u001b[39mtry\u001b[39;00m:\n\u001b[1;32m     25\u001b[0m     \u001b[39mfrom\u001b[39;00m \u001b[39mpandas\u001b[39;00m\u001b[39m.\u001b[39;00m\u001b[39m_libs\u001b[39;00m \u001b[39mimport\u001b[39;00m hashtable \u001b[39mas\u001b[39;00m _hashtable, lib \u001b[39mas\u001b[39;00m _lib, tslib \u001b[39mas\u001b[39;00m _tslib\n",
      "\u001b[0;31mImportError\u001b[0m: cannot import name 'np_version_under1p18' from 'pandas.compat' (/Users/choikyungsuk/opt/anaconda3/envs/DAB/lib/python3.8/site-packages/pandas/compat/__init__.py)"
     ]
    }
   ],
   "source": [
    "#!pip install ortools\n",
    "import numpy as np\n",
    "import datetime\n",
    "import matplotlib.pyplot as plt\n",
    "import pandas as pd"
   ]
  },
  {
   "cell_type": "code",
   "execution_count": null,
   "metadata": {},
   "outputs": [],
   "source": [
    "from ortools.constraint_solver import routing_enums_pb2\n",
    "from ortools.constraint_solver import pywrapcp"
   ]
  },
  {
   "cell_type": "code",
   "execution_count": null,
   "metadata": {},
   "outputs": [],
   "source": [
    "class init_loop_vrp:\n",
    "    def __init__(self):\n",
    "        pass\n",
    "        \n",
    "    def print_solution(self):\n",
    "        \"\"\"Prints solution on console.\"\"\"\n",
    "        print('Loop route 구축')\n",
    "        #total_time = 0\n",
    "        #total_load = 0\n",
    "        self.all_loop_route = []\n",
    "        self.demand_route = []\n",
    "        for vehicle_id in range(self.data['num_vehicles']):\n",
    "            self.vehicle_route = []\n",
    "            index = self.routing.Start(vehicle_id)\n",
    "\n",
    "            while not self.routing.IsEnd(index):\n",
    "                node_index = self.manager.IndexToNode(index)\n",
    "                previous_index = index\n",
    "                index = self.solution.Value(self.routing.NextVar(index))\n",
    "                self.vehicle_route.append(node_index)\n",
    "\n",
    "            self.all_loop_route.append(self.vehicle_route)\n",
    "          \n",
    "        for route in self.all_loop_route:\n",
    "            self.car_demand = []\n",
    "            for i in route:\n",
    "                self.car_demand.append(self.data['demands'][i])\n",
    "\n",
    "            self.demand_route.append(self.car_demand)\n",
    "\n",
    "    def get_loop(self, num_vehicles, input_node, time_matrix):\n",
    "        '''\n",
    "        num_vehicles : 사용할 차량 대수 (int)\n",
    "        input_node : 초기에 사용자가 신청한 노드의 index (list)\n",
    "        time_matrix : 가능한 모든 노드 간의 time matrix (array)\n",
    "        '''\n",
    "        \"\"\"Entry point of the program.\"\"\"\n",
    "        # Instantiate the data problem.\n",
    "        self.data = {}\n",
    "        self.data['num_vehicles'] = num_vehicles\n",
    "        self.data['time_matrix'] = pd.DataFrame(time_matrix)[input_node].iloc[input_node].to_numpy()\n",
    "        self.data['vehicle_capacities'] = [int(input()) for _ in range(num_vehicles)]\n",
    "        #print(self.data['vehicle_capacities'])\n",
    "        self.data['demands'] = [0,2,2] + [1 for i in range(8)]  #[0] + [sum(self.data['vehicle_capacities'])-len(time_matrix)] + [1 for i in range(len(time_matrix))] \n",
    "        self.data['depot'] = 0\n",
    "\n",
    "        # Create the routing index manager.\n",
    "        self.manager = pywrapcp.RoutingIndexManager(len(self.data['time_matrix']), self.data['num_vehicles'], self.data['depot'])\n",
    "\n",
    "        # Create Routing Model.\n",
    "        self.routing = pywrapcp.RoutingModel(self.manager)\n",
    "\n",
    "\n",
    "        # 1-1. Define cost of each arc.\n",
    "        def distance_callback(from_index, to_index):\n",
    "            \"\"\"Returns the manhattan distance between the two nodes.\"\"\"\n",
    "            # Convert from routing variable Index to distance matrix NodeIndex.\n",
    "            from_node = self.manager.IndexToNode(from_index)\n",
    "            to_node = self.manager.IndexToNode(to_index)\n",
    "            return self.data['time_matrix'][from_node][to_node]\n",
    "\n",
    "        transit_callback_index = self.routing.RegisterTransitCallback(distance_callback)\n",
    "        self.routing.SetArcCostEvaluatorOfAllVehicles(transit_callback_index)\n",
    "\n",
    "        # 1-2.Add Distance constraint.\n",
    "        dimension_name = 'Distance'\n",
    "        self.routing.AddDimension(\n",
    "            transit_callback_index,\n",
    "            0,  # no slack\n",
    "            30000,  # vehicle maximum travel distance\n",
    "            True,  # start cumul to zero\n",
    "            dimension_name)\n",
    "\n",
    "        distance_dimension = self.routing.GetDimensionOrDie(dimension_name)\n",
    "        distance_dimension.SetGlobalSpanCostCoefficient(100)\n",
    "\n",
    "        # 2-1.Define cost of each node.\n",
    "        def demand_callback(from_index):\n",
    "            \"\"\"Returns the demand of the node.\"\"\"\n",
    "            # Convert from routing variable Index to demands NodeIndex.\n",
    "            from_node = self.manager.IndexToNode(from_index)\n",
    "            return self.data['demands'][from_node]\n",
    "\n",
    "        demand_callback_index = self.routing.RegisterUnaryTransitCallback(\n",
    "            demand_callback)\n",
    "\n",
    "        # 2-2.Add Capacity constraint.\n",
    "        self.routing.AddDimensionWithVehicleCapacity(\n",
    "            demand_callback_index,\n",
    "            0,  # null capacity slack\n",
    "            self.data['vehicle_capacities'],  # vehicle maximum capacities\n",
    "            True,  # start cumul to zero\n",
    "            'Capacity')\n",
    "\n",
    "        # Setting first solution heuristic.\n",
    "        search_parameters = pywrapcp.DefaultRoutingSearchParameters()\n",
    "        search_parameters.first_solution_strategy = (\n",
    "            routing_enums_pb2.FirstSolutionStrategy.PARALLEL_CHEAPEST_INSERTION)\n",
    "\n",
    "        # Solve the problem.\n",
    "        self.solution = self.routing.SolveWithParameters(search_parameters)\n",
    "    \n",
    "\n",
    "        # Print solution on console.\n",
    "        if self.solution:\n",
    "            self.print_solution()\n",
    "            return self.all_loop_route, self.demand_route\n",
    "        else:\n",
    "            print(self.solution)"
   ]
  },
  {
   "cell_type": "code",
   "execution_count": 3,
   "metadata": {},
   "outputs": [
    {
     "ename": "NameError",
     "evalue": "name 'np' is not defined",
     "output_type": "error",
     "traceback": [
      "\u001b[0;31m---------------------------------------------------------------------------\u001b[0m",
      "\u001b[0;31mNameError\u001b[0m                                 Traceback (most recent call last)",
      "\u001b[1;32m/Users/choikyungsuk/Desktop/WatermelonTheBest/initial_vrp/class_init_loop_vrp.ipynb 셀 4\u001b[0m in \u001b[0;36m<cell line: 1>\u001b[0;34m()\u001b[0m\n\u001b[0;32m----> <a href='vscode-notebook-cell:/Users/choikyungsuk/Desktop/WatermelonTheBest/initial_vrp/class_init_loop_vrp.ipynb#X13sZmlsZQ%3D%3D?line=0'>1</a>\u001b[0m time_matrix \u001b[39m=\u001b[39m np\u001b[39m.\u001b[39mload(\u001b[39m'\u001b[39m\u001b[39m../locate_call/강남역_경로매트릭스_예시(분).npy\u001b[39m\u001b[39m'\u001b[39m)\n\u001b[1;32m      <a href='vscode-notebook-cell:/Users/choikyungsuk/Desktop/WatermelonTheBest/initial_vrp/class_init_loop_vrp.ipynb#X13sZmlsZQ%3D%3D?line=1'>2</a>\u001b[0m node \u001b[39m=\u001b[39m np\u001b[39m.\u001b[39mload(\u001b[39m'\u001b[39m\u001b[39m../locate_call/강남역_경로매트릭스_예시(분).npy\u001b[39m\u001b[39m'\u001b[39m)[:\u001b[39m10\u001b[39m,:\u001b[39m10\u001b[39m]\n\u001b[1;32m      <a href='vscode-notebook-cell:/Users/choikyungsuk/Desktop/WatermelonTheBest/initial_vrp/class_init_loop_vrp.ipynb#X13sZmlsZQ%3D%3D?line=2'>3</a>\u001b[0m bus_name_lst \u001b[39m=\u001b[39m [\u001b[39m'\u001b[39m\u001b[39m강남역\u001b[39m\u001b[39m'\u001b[39m,\u001b[39m'\u001b[39m\u001b[39m학동역\u001b[39m\u001b[39m'\u001b[39m,\u001b[39m'\u001b[39m\u001b[39m현대아파트\u001b[39m\u001b[39m'\u001b[39m,\u001b[39m'\u001b[39m\u001b[39m신당동.청구역\u001b[39m\u001b[39m'\u001b[39m,\u001b[39m'\u001b[39m\u001b[39m동묘앞\u001b[39m\u001b[39m'\u001b[39m,\u001b[39m'\u001b[39m\u001b[39m안암오거리\u001b[39m\u001b[39m'\u001b[39m,\u001b[39m'\u001b[39m\u001b[39m서초동삼성아파트\u001b[39m\u001b[39m'\u001b[39m,\u001b[39m'\u001b[39m\u001b[39m방배역\u001b[39m\u001b[39m'\u001b[39m,\u001b[39m'\u001b[39m\u001b[39m사당역13번출구\u001b[39m\u001b[39m'\u001b[39m,\u001b[39m'\u001b[39m\u001b[39m남성초등학교\u001b[39m\u001b[39m'\u001b[39m,\u001b[39m'\u001b[39m\u001b[39m언북중학교입구\u001b[39m\u001b[39m'\u001b[39m,\n\u001b[1;32m      <a href='vscode-notebook-cell:/Users/choikyungsuk/Desktop/WatermelonTheBest/initial_vrp/class_init_loop_vrp.ipynb#X13sZmlsZQ%3D%3D?line=3'>4</a>\u001b[0m \u001b[39m'\u001b[39m\u001b[39m세관앞\u001b[39m\u001b[39m'\u001b[39m,\u001b[39m'\u001b[39m\u001b[39m신구중학교\u001b[39m\u001b[39m'\u001b[39m,\u001b[39m'\u001b[39m\u001b[39m금옥초등학교.금호대우아파트\u001b[39m\u001b[39m'\u001b[39m,\u001b[39m'\u001b[39m\u001b[39m장충체육관앞\u001b[39m\u001b[39m'\u001b[39m,\u001b[39m'\u001b[39m\u001b[39m대광고등학교앞\u001b[39m\u001b[39m'\u001b[39m,\u001b[39m'\u001b[39m\u001b[39m서초역2번출구\u001b[39m\u001b[39m'\u001b[39m,\u001b[39m'\u001b[39m\u001b[39m청호나이스\u001b[39m\u001b[39m'\u001b[39m,\u001b[39m'\u001b[39m\u001b[39m방배동신동아아파트\u001b[39m\u001b[39m'\u001b[39m,\u001b[39m'\u001b[39m\u001b[39m서울고사거리\u001b[39m\u001b[39m'\u001b[39m,\u001b[39m'\u001b[39m\u001b[39m방배동래미안아파트\u001b[39m\u001b[39m'\u001b[39m,\u001b[39m'\u001b[39m\u001b[39m서울교통공사\u001b[39m\u001b[39m'\u001b[39m,\u001b[39m'\u001b[39m\u001b[39m구름다리\u001b[39m\u001b[39m'\u001b[39m,\u001b[39m'\u001b[39m\u001b[39m이수역\u001b[39m\u001b[39m'\u001b[39m,\u001b[39m'\u001b[39m\u001b[39m사당역\u001b[39m\u001b[39m'\u001b[39m]\n",
      "\u001b[0;31mNameError\u001b[0m: name 'np' is not defined"
     ]
    }
   ],
   "source": [
    "time_matrix = np.load('../locate_call/강남역_경로매트릭스_예시(분).npy')\n",
    "node = np.load('../locate_call/강남역_경로매트릭스_예시(분).npy')[:10,:10]\n",
    "bus_name_lst = ['강남역','학동역','현대아파트','신당동.청구역','동묘앞','안암오거리','서초동삼성아파트','방배역','사당역13번출구','남성초등학교','언북중학교입구',\n",
    "'세관앞','신구중학교','금옥초등학교.금호대우아파트','장충체육관앞','대광고등학교앞','서초역2번출구','청호나이스','방배동신동아아파트','서울고사거리','방배동래미안아파트','서울교통공사','구름다리','이수역','사당역']"
   ]
  },
  {
   "cell_type": "code",
   "execution_count": null,
   "metadata": {},
   "outputs": [],
   "source": [
    "my_sol = init_loop_vrp()"
   ]
  },
  {
   "cell_type": "code",
   "execution_count": null,
   "metadata": {},
   "outputs": [
    {
     "name": "stdout",
     "output_type": "stream",
     "text": [
      "Loop route 구축\n"
     ]
    },
    {
     "data": {
      "text/plain": [
       "([[0, 7, 8, 9, 6], [0, 3, 4, 5], [0, 2, 1]],\n",
       " [[0, 1, 1, 1, 1], [0, 1, 1, 1], [0, 2, 2]])"
      ]
     },
     "execution_count": 30,
     "metadata": {},
     "output_type": "execute_result"
    }
   ],
   "source": [
    "my_sol.get_loop(3, range(10), time_matrix)"
   ]
  }
 ],
 "metadata": {
  "kernelspec": {
   "display_name": "Python 3.8.12 ('DAB')",
   "language": "python",
   "name": "python3"
  },
  "language_info": {
   "codemirror_mode": {
    "name": "ipython",
    "version": 3
   },
   "file_extension": ".py",
   "mimetype": "text/x-python",
   "name": "python",
   "nbconvert_exporter": "python",
   "pygments_lexer": "ipython3",
   "version": "3.8.13"
  },
  "orig_nbformat": 4,
  "vscode": {
   "interpreter": {
    "hash": "2e1a22278fcd7ad0e055af58b0f7aa01b7991f17792cd428bee921724201d0b5"
   }
  }
 },
 "nbformat": 4,
 "nbformat_minor": 2
}
