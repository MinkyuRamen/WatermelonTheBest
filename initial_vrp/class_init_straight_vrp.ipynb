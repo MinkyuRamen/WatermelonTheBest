{
 "cells": [
  {
   "cell_type": "code",
   "execution_count": 1,
   "metadata": {},
   "outputs": [],
   "source": [
    "import numpy as np\n",
    "import matplotlib.pyplot as plt\n",
    "import pandas as pd\n",
    "import pickle"
   ]
  },
  {
   "cell_type": "code",
   "execution_count": 2,
   "metadata": {},
   "outputs": [],
   "source": [
    "\"\"\"Simple Pickup Delivery Problem (PDP) + Capacited Vehicles Routing Problem (CVRP).\"\"\"\n",
    "\n",
    "from ortools.constraint_solver import routing_enums_pb2\n",
    "from ortools.constraint_solver import pywrapcp\n",
    "import datetime\n"
   ]
  },
  {
   "cell_type": "code",
   "execution_count": 8,
   "metadata": {},
   "outputs": [],
   "source": [
    "class straight_route:\n",
    "    def __init__(self):\n",
    "        pass\n",
    "\n",
    "    def print_solution(self):\n",
    "        \"\"\"Prints solution on console.\"\"\"\n",
    "        print(f'Objective: {self.solution.ObjectiveValue()}')\n",
    "        total_time = 0\n",
    "        total_load = 0\n",
    "\n",
    "        for vehicle_id in range(self.data['num_vehicles']):\n",
    "            self.straight_route = []\n",
    "            index = self.routing.Start(vehicle_id)\n",
    "            plan_output = 'Route for vehicle {}:\\n\\n'.format(vehicle_id)\n",
    "            route_time = 0\n",
    "            route_time_lst = [0]\n",
    "            route_load = 0\n",
    "            i=0\n",
    "\n",
    "            while not self.routing.IsEnd(index):\n",
    "                node_index = self.manager.IndexToNode(index)\n",
    "                route_load += self.data['demands'][node_index]\n",
    "            \n",
    "                previous_index = index\n",
    "                index = self.solution.Value(self.routing.NextVar(index))\n",
    "                route_time_lst.append(self.routing.GetArcCostForVehicle(\n",
    "                    previous_index, index, vehicle_id))\n",
    "                route_time += self.routing.GetArcCostForVehicle(\n",
    "                    previous_index, index, vehicle_id)\n",
    "\n",
    "                plan_output += ' 정류장 이름 : {0}  (탑승객 수: {1}, 하차수: {2}, 소요시간: {3}) \\n    ==>    '.format(self.data['name_lst'][node_index], self.data['vehicle_capacities'][vehicle_id] - route_load, self.data['demands'][node_index],datetime.timedelta(seconds = route_time_lst[i]))\n",
    "                i+=1\n",
    "                self.straight_route.append(node_index)\n",
    "\n",
    "            node_index = self.manager.IndexToNode(index)\n",
    "            plan_output += ' 정류장 이름 : {0}  (탑승객 수: {1}, 하차수: {2}, 소요시간: {3}) \\n    ==>    '.format(self.data['name_lst'][node_index], self.data['vehicle_capacities'][vehicle_id] - route_load, self.data['demands'][node_index],datetime.timedelta(seconds = route_time_lst[i]))\n",
    "            plan_output += '서비스 종료\\n\\n'\n",
    "            plan_output += 'Duration of the route: {}분\\n'.format((datetime.timedelta(seconds = route_time-route_time_lst[-1])))\n",
    "            plan_output += 'Load of the route: {}\\n'.format(route_load)\n",
    "            print(plan_output)\n",
    "\n",
    "            total_time += route_time\n",
    "            total_load += route_load\n",
    "\n",
    "        print('\\n')\n",
    "        print('Total Duration of all routes: {}m'.format(datetime.timedelta(seconds =total_time)))\n",
    "        print('Total load of all routes: {}'.format(total_load))\n",
    "        return self.straight_route\n",
    "   \n",
    "\n",
    "    def get_straight_route(self, time_matrix, input_node, name_lst, demand):\n",
    "        \"\"\"Entry point of the program.\"\"\"\n",
    "        self.data = {}\n",
    "        self.data['name_lst'] = name_lst\n",
    "        self.data['new_time_matrix'] = pd.DataFrame(time_matrix)[input_node].iloc[input_node].to_numpy()\n",
    "        self.data['demands'] = demand\n",
    "        self.data['vehicle_capacities'] = [5]\n",
    "        self.data['num_vehicles'] = 1\n",
    "        self.data['starts'] = [0]\n",
    "        self.data['ends'] = [input_node[int(np.argmax(self.data['new_time_matrix'][0]))]]\n",
    "        # Create the routing index manager.\n",
    "        self.manager = pywrapcp.RoutingIndexManager(len(self.data['new_time_matrix']),\n",
    "                                           self.data['num_vehicles'], self.data['starts'], self.data['ends'])\n",
    "\n",
    "        # Create Routing Model.\n",
    "        self.routing = pywrapcp.RoutingModel(self.manager)\n",
    "\n",
    "\n",
    "        # 1-1. Define cost of each arc.\n",
    "        def distance_callback(from_index, to_index):\n",
    "            \"\"\"Returns the manhattan distance between the two nodes.\"\"\"\n",
    "            # Convert from routing variable Index to distance matrix NodeIndex.\n",
    "            from_node = self.manager.IndexToNode(from_index)\n",
    "            to_node = self.manager.IndexToNode(to_index)\n",
    "            return self.data['new_time_matrix'][from_node][to_node]\n",
    "\n",
    "        transit_callback_index = self.routing.RegisterTransitCallback(distance_callback)\n",
    "        self.routing.SetArcCostEvaluatorOfAllVehicles(transit_callback_index)\n",
    "\n",
    "        # 1-2.Add Distance constraint.\n",
    "        dimension_name = 'Distance'\n",
    "        self.routing.AddDimension(\n",
    "            transit_callback_index,\n",
    "            0,  # no slack\n",
    "            8000,  # vehicle maximum travel distance\n",
    "            True,  # start cumul to zero\n",
    "            dimension_name)\n",
    "        distance_dimension = self.routing.GetDimensionOrDie(dimension_name)\n",
    "        distance_dimension.SetGlobalSpanCostCoefficient(100)\n",
    "\n",
    "        # 2-1.Define cost of each node.\n",
    "        def demand_callback(from_index):\n",
    "            \"\"\"Returns the demand of the node.\"\"\"\n",
    "            # Convert from routing variable Index to demands NodeIndex.\n",
    "            from_node = self.manager.IndexToNode(from_index)\n",
    "            return self.data['demands'][from_node]\n",
    "\n",
    "        demand_callback_index = self.routing.RegisterUnaryTransitCallback(\n",
    "            demand_callback)\n",
    "\n",
    "        # 2-2.Add Capacity constraint.\n",
    "        self.routing.AddDimensionWithVehicleCapacity(\n",
    "            demand_callback_index,\n",
    "            0,  # null capacity slack\n",
    "            self.data['vehicle_capacities'],  # vehicle maximum capacities\n",
    "            True,  # start cumul to zero\n",
    "            'Capacity')\n",
    "\n",
    "        # Setting first solution heuristic.\n",
    "        search_parameters = pywrapcp.DefaultRoutingSearchParameters()\n",
    "        search_parameters.first_solution_strategy = (\n",
    "            routing_enums_pb2.FirstSolutionStrategy.PARALLEL_CHEAPEST_INSERTION)\n",
    "\n",
    "        # Solve the problem.\n",
    "        self.solution = self.routing.SolveWithParameters(search_parameters)\n",
    "\n",
    "        # Print solution on console.\n",
    "        if self.solution:\n",
    "            self.print_solution()\n",
    "            return self.straight_route\n",
    "        else:\n",
    "          print(self.solution)\n",
    "\n"
   ]
  },
  {
   "cell_type": "code",
   "execution_count": 9,
   "metadata": {},
   "outputs": [],
   "source": [
    "time_matrix = np.load('../locate_call/강남역_경로매트릭스_예시(분).npy')\n",
    "node = np.load('../locate_call/강남역_경로매트릭스_예시(분).npy')[:10,:10]\n",
    "bus_name_lst = ['강남역','학동역','현대아파트','신당동.청구역','동묘앞','안암오거리','서초동삼성아파트','방배역','사당역13번출구','남성초등학교','언북중학교입구',\n",
    "'세관앞','신구중학교','금옥초등학교.금호대우아파트','장충체육관앞','대광고등학교앞','서초역2번출구','청호나이스','방배동신동아아파트','서울고사거리','방배동래미안아파트','서울교통공사','구름다리','이수역','사당역']"
   ]
  },
  {
   "cell_type": "code",
   "execution_count": 10,
   "metadata": {},
   "outputs": [
    {
     "data": {
      "text/plain": [
       "([[0, 7, 8, 9, 6], [0, 3, 4, 5], [0, 2, 1]],\n",
       " [[0, 1, 1, 1, 1], [0, 1, 1, 1], [0, 2, 2]])"
      ]
     },
     "execution_count": 10,
     "metadata": {},
     "output_type": "execute_result"
    }
   ],
   "source": [
    "([[0, 7, 8, 9, 6], [0, 3, 4, 5], [0, 2, 1]],\n",
    " [[0, 1, 1, 1, 1], [0, 1, 1, 1], [0, 2, 2]])"
   ]
  },
  {
   "cell_type": "code",
   "execution_count": 11,
   "metadata": {},
   "outputs": [
    {
     "data": {
      "text/plain": [
       "array([   0,  994, 1420, 1558])"
      ]
     },
     "execution_count": 11,
     "metadata": {},
     "output_type": "execute_result"
    }
   ],
   "source": [
    "pd.DataFrame(time_matrix)[[0, 3, 4, 5]].iloc[[0, 3, 4, 5]].to_numpy()[0]"
   ]
  },
  {
   "cell_type": "code",
   "execution_count": 13,
   "metadata": {},
   "outputs": [
    {
     "ename": "",
     "evalue": "",
     "output_type": "error",
     "traceback": [
      "\u001b[1;31m현재 셀 또는 이전 셀에서 코드를 실행하는 동안 Kernel이 충돌했습니다. 셀의 코드를 검토하여 오류의 가능한 원인을 식별하세요. 자세한 내용을 보려면 <a href='https://aka.ms/vscodeJupyterKernelCrash'> 여기 </a> 를 클릭하세요. 자세한 내용은 Jupyter <a href='command:jupyter.viewOutput'>로그</a>를 참조하세요."
     ]
    },
    {
     "ename": "",
     "evalue": "",
     "output_type": "error",
     "traceback": [
      "\u001b[1;31mCanceled future for execute_request message before replies were done"
     ]
    }
   ],
   "source": [
    "s = straight_route()\n",
    "s.get_straight_route(time_matrix, [0, 3, 4, 5], bus_name_lst, [0, 1, 1, 1])"
   ]
  },
  {
   "cell_type": "code",
   "execution_count": null,
   "metadata": {},
   "outputs": [],
   "source": []
  }
 ],
 "metadata": {
  "kernelspec": {
   "display_name": "Python 3.9.6 64-bit",
   "language": "python",
   "name": "python3"
  },
  "language_info": {
   "codemirror_mode": {
    "name": "ipython",
    "version": 3
   },
   "file_extension": ".py",
   "mimetype": "text/x-python",
   "name": "python",
   "nbconvert_exporter": "python",
   "pygments_lexer": "ipython3",
   "version": "3.9.6"
  },
  "orig_nbformat": 4,
  "vscode": {
   "interpreter": {
    "hash": "aee8b7b246df8f9039afb4144a1f6fd8d2ca17a180786b69acc140d282b71a49"
   }
  }
 },
 "nbformat": 4,
 "nbformat_minor": 2
}
