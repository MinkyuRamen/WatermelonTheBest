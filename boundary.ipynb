{
 "cells": [
  {
   "cell_type": "markdown",
   "metadata": {},
   "source": [
    "## 변수 설명\n",
    "bus_name_lst : 버스 정류장 이름 리스트 <br>\n",
    "time_matrix : 버스 정류장 사이 소요 시간 <br>\n",
    "route : init_vrp output 를 index로"
   ]
  },
  {
   "cell_type": "code",
   "execution_count": 8,
   "metadata": {},
   "outputs": [],
   "source": [
    "import numpy as np\n",
    "import pandas as pd\n",
    "import pickle"
   ]
  },
  {
   "cell_type": "code",
   "execution_count": 62,
   "metadata": {},
   "outputs": [],
   "source": [
    "time_matrix = np.load('locate_call/강남역_경로매트릭스_24(분).npy')\n",
    "with open(\"locate_call/정류소명_리스트.pkl\",\"rb\") as f:\n",
    "    bus_name_lst = pickle.load(f)"
   ]
  },
  {
   "cell_type": "code",
   "execution_count": 96,
   "metadata": {},
   "outputs": [],
   "source": [
    "class boundary:\n",
    "    def __init__(self):\n",
    "        pass\n",
    "\n",
    "    def node2node(self): #경로상 연속된 노드들 저장\n",
    "        self.node_list = []\n",
    "        for i in range(len(self.route)-1):\n",
    "            t_node_1 = self.route[i]\n",
    "            t_node_2 = self.route[i+1]\n",
    "            self.node_list.append([t_node_2, t_node_2])\n",
    "        \n",
    "\n",
    "    def possible_by_node(self, each_node):\n",
    "        self.N1_index = each_node[0] #첫번째 노드 index\n",
    "        self.N2_index = each_node[1] #두번째 노드 index\n",
    "\n",
    "        node_time = self.time_matrix[self.N1_index, self.N2_index] #노드 사이 시간\n",
    "        slack_time = node_time*0.2 # 경로 별 노드 사이 slack 시간\n",
    "        \n",
    "        self.node_time_limit = node_time + slack_time #노드 사이의 시간 한계\n",
    "\n",
    "        for n in range(len(self.bus_name_lst)): #n은 우리가 사용하는 버스 정류장 Index\n",
    "            node_time = self.time_matrix[self.N1_index,n] + self.time_matrix[n, self.N2_index] # n을 들릴때 걸리는 시간\n",
    "\n",
    "             #새로 추가될 버스 정류장과 두 노드의 시간 합\n",
    "            if node_time <= self.node_time_limit: # 방문했을 때 걸리는 시간이 한계보다 작으면 추가\n",
    "                self.possible_node.append(n)\n",
    "\n",
    "\n",
    "    def all_possible_node(self, time_matrix, bus_name_lst, route):\n",
    "        self.time_matrix = time_matrix\n",
    "        self.bus_name_lst = bus_name_lst\n",
    "        self.route = route\n",
    "\n",
    "        self.possible_node = []\n",
    "        self.node2node() #전체 노드를 분리\n",
    "        for each_node in self.node_list:\n",
    "            self.possible_by_node(each_node)\n",
    "        \n",
    "        self.final_possible_node = list(set(self.possible_node))\n",
    "        node_dict = {self.final_possible_node[n] : self.bus_name_lst[self.final_possible_node[n]] for n in range(len(self.final_possible_node))}\n",
    "\n",
    "        return node_dict"
   ]
  },
  {
   "cell_type": "code",
   "execution_count": 97,
   "metadata": {},
   "outputs": [],
   "source": [
    "my_boundary = boundary()"
   ]
  },
  {
   "cell_type": "code",
   "execution_count": 98,
   "metadata": {},
   "outputs": [
    {
     "data": {
      "text/plain": [
       "{8: '숭실대입구역', 3: '이촌2동대림아파트.새남터성지', 5: '성북동성당', 23: '청운중학교'}"
      ]
     },
     "execution_count": 98,
     "metadata": {},
     "output_type": "execute_result"
    }
   ],
   "source": [
    "my_boundary.all_possible_node(time_matrix,bus_name_lst,[0,8,3,23,5])"
   ]
  },
  {
   "cell_type": "code",
   "execution_count": null,
   "metadata": {},
   "outputs": [],
   "source": []
  }
 ],
 "metadata": {
  "kernelspec": {
   "display_name": "Python 3.9.6 64-bit",
   "language": "python",
   "name": "python3"
  },
  "language_info": {
   "codemirror_mode": {
    "name": "ipython",
    "version": 3
   },
   "file_extension": ".py",
   "mimetype": "text/x-python",
   "name": "python",
   "nbconvert_exporter": "python",
   "pygments_lexer": "ipython3",
   "version": "3.9.6"
  },
  "orig_nbformat": 4,
  "vscode": {
   "interpreter": {
    "hash": "aee8b7b246df8f9039afb4144a1f6fd8d2ca17a180786b69acc140d282b71a49"
   }
  }
 },
 "nbformat": 4,
 "nbformat_minor": 2
}
