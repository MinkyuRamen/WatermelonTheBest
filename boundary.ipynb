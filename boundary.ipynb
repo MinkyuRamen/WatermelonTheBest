{
 "cells": [
  {
   "cell_type": "markdown",
   "metadata": {},
   "source": [
    "## 사용 방법\n",
    "### 1. Class 선언\n",
    "    - my_boundary = boundary()\n",
    "\n",
    "### 2. Route에 대한 추가 가능 노드 출력\n",
    "    - my_boundary(time_matrix, bus_name_lst, route) \n",
    "    \n",
    "        - time_matrix : 전체 버스 정류장들에 대한 time matrix (array)\n",
    "        - bus_name_lst : 전체 버스 정류장들의 정류장 명 (list)\n",
    "        - route : OR-TOOLS의 output 중 1개 경로에 대한 인덱스 (list)"
   ]
  },
  {
   "cell_type": "code",
   "execution_count": 78,
   "metadata": {},
   "outputs": [],
   "source": [
    "import numpy as np\n",
    "import pandas as pd\n",
    "import pickle"
   ]
  },
  {
   "cell_type": "code",
   "execution_count": 79,
   "metadata": {},
   "outputs": [],
   "source": []
  },
  {
   "cell_type": "code",
   "execution_count": 80,
   "metadata": {},
   "outputs": [
    {
     "data": {
      "text/plain": [
       "467"
      ]
     },
     "execution_count": 80,
     "metadata": {},
     "output_type": "execute_result"
    }
   ],
   "source": [
    "time_matrix[0,1]"
   ]
  },
  {
   "cell_type": "code",
   "execution_count": 92,
   "metadata": {},
   "outputs": [],
   "source": [
    "class boundary:\n",
    "    def __init__(self):\n",
    "        pass\n",
    "\n",
    "    def node2node(self, route): #경로상 연속된 노드들 저장\n",
    "        self.route = route\n",
    "\n",
    "        self.node_list = []\n",
    "        for i in range(len(self.route)-1):\n",
    "            t_node_1 = self.route[i]\n",
    "            t_node_2 = self.route[i+1]\n",
    "            self.node_list.append([t_node_1, t_node_2])\n",
    "        \n",
    "\n",
    "    def possible_by_node(self, each_node):\n",
    "        self.N1_index = each_node[0] #첫번째 노드 index\n",
    "        self.N2_index = each_node[1] #두번째 노드 index\n",
    "\n",
    "        node_time = self.time_matrix[self.N1_index, self.N2_index] #노드 사이 시간\n",
    "        slack_time = node_time*0.5 # 경로 별 노드 사이 slack 시간\n",
    "        \n",
    "        self.node_time_limit = node_time + slack_time #노드 사이의 시간 한계\n",
    "\n",
    "        for n in range(len(self.bus_name_lst)): #n은 우리가 사용하는 버스 정류장 Index\n",
    "            node_time = self.time_matrix[self.N1_index,n] + self.time_matrix[n, self.N2_index] # n을 들릴때 걸리는 시간\n",
    "\n",
    "             #새로 추가될 버스 정류장과 두 노드의 시간 합\n",
    "            if node_time <= self.node_time_limit: # 방문했을 때 걸리는 시간이 한계보다 작으면 추가\n",
    "                self.possible_node.append(n)\n",
    "\n",
    "\n",
    "    def all_possible_node(self, time_matrix, bus_name_lst, route):\n",
    "        self.time_matrix = time_matrix\n",
    "        self.bus_name_lst = bus_name_lst\n",
    "        self.possible_node = []\n",
    "\n",
    "        self.node2node(route) #전체 노드를 분리\n",
    "\n",
    "        for each_node in self.node_list:\n",
    "            self.possible_by_node(each_node)\n",
    "        \n",
    "        self.final_possible_node = list(set(self.possible_node))\n",
    "        node_dict = {self.final_possible_node[n] : self.bus_name_lst[self.final_possible_node[n]] for n in range(len(self.final_possible_node))}\n",
    "\n",
    "        return node_dict"
   ]
  },
  {
   "cell_type": "markdown",
   "metadata": {},
   "source": [
    "### Ex) 총 25개의 노드 중 출발지인 강남역 포함 10군데를 초기에 방문,"
   ]
  },
  {
   "cell_type": "code",
   "execution_count": 95,
   "metadata": {},
   "outputs": [
    {
     "data": {
      "text/plain": [
       "[0, 7, 8, 9, 6]"
      ]
     },
     "execution_count": 95,
     "metadata": {},
     "output_type": "execute_result"
    }
   ],
   "source": [
    "time_matrix = np.load('locate_call/강남역_경로매트릭스_예시(분).npy')\n",
    "bus_name_lst = ['강남역','학동역','현대아파트','신당동.청구역','동묘앞','안암오거리','서초동삼성아파트','방배역','사당역13번출구','남성초등학교','언북중학교입구','세관앞','신구중학교','금옥초등학교.금호대우아파트','장충체육관앞','대광고등학교앞','서초역2번출구','청호나이스','방배동신동아아파트','서울고사거리','방배동래미안아파트','서울교통공사','구름다리','이수역','사당역']\n",
    "route = []\n",
    "for p in ['강남역','방배역','사당역13번출구','남성초등학교','서초동삼성아파트']:\n",
    "    route.append(bus_name_lst.index(p))\n",
    "\n",
    "route"
   ]
  },
  {
   "cell_type": "code",
   "execution_count": 96,
   "metadata": {},
   "outputs": [],
   "source": [
    "my_boundary = boundary()"
   ]
  },
  {
   "cell_type": "code",
   "execution_count": 97,
   "metadata": {},
   "outputs": [
    {
     "data": {
      "text/plain": [
       "{0: '강남역',\n",
       " 6: '서초동삼성아파트',\n",
       " 7: '방배역',\n",
       " 8: '사당역13번출구',\n",
       " 9: '남성초등학교',\n",
       " 16: '서초역2번출구',\n",
       " 17: '청호나이스',\n",
       " 18: '방배동신동아아파트',\n",
       " 19: '서울고사거리',\n",
       " 22: '구름다리',\n",
       " 23: '이수역'}"
      ]
     },
     "execution_count": 97,
     "metadata": {},
     "output_type": "execute_result"
    }
   ],
   "source": [
    "my_boundary.all_possible_node(time_matrix, bus_name_lst, route)"
   ]
  }
 ],
 "metadata": {
  "kernelspec": {
   "display_name": "Python 3.9.6 64-bit",
   "language": "python",
   "name": "python3"
  },
  "language_info": {
   "codemirror_mode": {
    "name": "ipython",
    "version": 3
   },
   "file_extension": ".py",
   "mimetype": "text/x-python",
   "name": "python",
   "nbconvert_exporter": "python",
   "pygments_lexer": "ipython3",
   "version": "3.9.6"
  },
  "orig_nbformat": 4,
  "vscode": {
   "interpreter": {
    "hash": "aee8b7b246df8f9039afb4144a1f6fd8d2ca17a180786b69acc140d282b71a49"
   }
  }
 },
 "nbformat": 4,
 "nbformat_minor": 2
}
